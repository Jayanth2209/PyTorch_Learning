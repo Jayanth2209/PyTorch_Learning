{
  "nbformat": 4,
  "nbformat_minor": 0,
  "metadata": {
    "colab": {
      "name": "Logistic Regression MNIST.ipynb",
      "provenance": [],
      "collapsed_sections": []
    },
    "kernelspec": {
      "name": "python3",
      "display_name": "Python 3"
    },
    "language_info": {
      "name": "python"
    },
    "widgets": {
      "application/vnd.jupyter.widget-state+json": {
        "d600d4a49ef54742afdda94fc2b25f0a": {
          "model_module": "@jupyter-widgets/controls",
          "model_name": "HBoxModel",
          "state": {
            "_view_name": "HBoxView",
            "_dom_classes": [],
            "_model_name": "HBoxModel",
            "_view_module": "@jupyter-widgets/controls",
            "_model_module_version": "1.5.0",
            "_view_count": null,
            "_view_module_version": "1.5.0",
            "box_style": "",
            "layout": "IPY_MODEL_504fc5e56fa74bbf805426370760353e",
            "_model_module": "@jupyter-widgets/controls",
            "children": [
              "IPY_MODEL_2e79dcdeb6464bc0a6e8e23ccdbda3f3",
              "IPY_MODEL_222ad3e1ff984ecebf24685a9fed86dc"
            ]
          }
        },
        "504fc5e56fa74bbf805426370760353e": {
          "model_module": "@jupyter-widgets/base",
          "model_name": "LayoutModel",
          "state": {
            "_view_name": "LayoutView",
            "grid_template_rows": null,
            "right": null,
            "justify_content": null,
            "_view_module": "@jupyter-widgets/base",
            "overflow": null,
            "_model_module_version": "1.2.0",
            "_view_count": null,
            "flex_flow": null,
            "width": null,
            "min_width": null,
            "border": null,
            "align_items": null,
            "bottom": null,
            "_model_module": "@jupyter-widgets/base",
            "top": null,
            "grid_column": null,
            "overflow_y": null,
            "overflow_x": null,
            "grid_auto_flow": null,
            "grid_area": null,
            "grid_template_columns": null,
            "flex": null,
            "_model_name": "LayoutModel",
            "justify_items": null,
            "grid_row": null,
            "max_height": null,
            "align_content": null,
            "visibility": null,
            "align_self": null,
            "height": null,
            "min_height": null,
            "padding": null,
            "grid_auto_rows": null,
            "grid_gap": null,
            "max_width": null,
            "order": null,
            "_view_module_version": "1.2.0",
            "grid_template_areas": null,
            "object_position": null,
            "object_fit": null,
            "grid_auto_columns": null,
            "margin": null,
            "display": null,
            "left": null
          }
        },
        "2e79dcdeb6464bc0a6e8e23ccdbda3f3": {
          "model_module": "@jupyter-widgets/controls",
          "model_name": "FloatProgressModel",
          "state": {
            "_view_name": "ProgressView",
            "style": "IPY_MODEL_0082fb8644ff4704b1473bdb171d95b3",
            "_dom_classes": [],
            "description": "",
            "_model_name": "FloatProgressModel",
            "bar_style": "success",
            "max": 9912422,
            "_view_module": "@jupyter-widgets/controls",
            "_model_module_version": "1.5.0",
            "value": 9912422,
            "_view_count": null,
            "_view_module_version": "1.5.0",
            "orientation": "horizontal",
            "min": 0,
            "description_tooltip": null,
            "_model_module": "@jupyter-widgets/controls",
            "layout": "IPY_MODEL_b6489a9c8dcc4a988fdcaeabf86338cd"
          }
        },
        "222ad3e1ff984ecebf24685a9fed86dc": {
          "model_module": "@jupyter-widgets/controls",
          "model_name": "HTMLModel",
          "state": {
            "_view_name": "HTMLView",
            "style": "IPY_MODEL_1bfd7aee40ca4f82992808a8377f61d9",
            "_dom_classes": [],
            "description": "",
            "_model_name": "HTMLModel",
            "placeholder": "​",
            "_view_module": "@jupyter-widgets/controls",
            "_model_module_version": "1.5.0",
            "value": " 9913344/? [00:09&lt;00:00, 1026694.08it/s]",
            "_view_count": null,
            "_view_module_version": "1.5.0",
            "description_tooltip": null,
            "_model_module": "@jupyter-widgets/controls",
            "layout": "IPY_MODEL_ab598fae1e2747ce8c3c0343abdc1a78"
          }
        },
        "0082fb8644ff4704b1473bdb171d95b3": {
          "model_module": "@jupyter-widgets/controls",
          "model_name": "ProgressStyleModel",
          "state": {
            "_view_name": "StyleView",
            "_model_name": "ProgressStyleModel",
            "description_width": "initial",
            "_view_module": "@jupyter-widgets/base",
            "_model_module_version": "1.5.0",
            "_view_count": null,
            "_view_module_version": "1.2.0",
            "bar_color": null,
            "_model_module": "@jupyter-widgets/controls"
          }
        },
        "b6489a9c8dcc4a988fdcaeabf86338cd": {
          "model_module": "@jupyter-widgets/base",
          "model_name": "LayoutModel",
          "state": {
            "_view_name": "LayoutView",
            "grid_template_rows": null,
            "right": null,
            "justify_content": null,
            "_view_module": "@jupyter-widgets/base",
            "overflow": null,
            "_model_module_version": "1.2.0",
            "_view_count": null,
            "flex_flow": null,
            "width": null,
            "min_width": null,
            "border": null,
            "align_items": null,
            "bottom": null,
            "_model_module": "@jupyter-widgets/base",
            "top": null,
            "grid_column": null,
            "overflow_y": null,
            "overflow_x": null,
            "grid_auto_flow": null,
            "grid_area": null,
            "grid_template_columns": null,
            "flex": null,
            "_model_name": "LayoutModel",
            "justify_items": null,
            "grid_row": null,
            "max_height": null,
            "align_content": null,
            "visibility": null,
            "align_self": null,
            "height": null,
            "min_height": null,
            "padding": null,
            "grid_auto_rows": null,
            "grid_gap": null,
            "max_width": null,
            "order": null,
            "_view_module_version": "1.2.0",
            "grid_template_areas": null,
            "object_position": null,
            "object_fit": null,
            "grid_auto_columns": null,
            "margin": null,
            "display": null,
            "left": null
          }
        },
        "1bfd7aee40ca4f82992808a8377f61d9": {
          "model_module": "@jupyter-widgets/controls",
          "model_name": "DescriptionStyleModel",
          "state": {
            "_view_name": "StyleView",
            "_model_name": "DescriptionStyleModel",
            "description_width": "",
            "_view_module": "@jupyter-widgets/base",
            "_model_module_version": "1.5.0",
            "_view_count": null,
            "_view_module_version": "1.2.0",
            "_model_module": "@jupyter-widgets/controls"
          }
        },
        "ab598fae1e2747ce8c3c0343abdc1a78": {
          "model_module": "@jupyter-widgets/base",
          "model_name": "LayoutModel",
          "state": {
            "_view_name": "LayoutView",
            "grid_template_rows": null,
            "right": null,
            "justify_content": null,
            "_view_module": "@jupyter-widgets/base",
            "overflow": null,
            "_model_module_version": "1.2.0",
            "_view_count": null,
            "flex_flow": null,
            "width": null,
            "min_width": null,
            "border": null,
            "align_items": null,
            "bottom": null,
            "_model_module": "@jupyter-widgets/base",
            "top": null,
            "grid_column": null,
            "overflow_y": null,
            "overflow_x": null,
            "grid_auto_flow": null,
            "grid_area": null,
            "grid_template_columns": null,
            "flex": null,
            "_model_name": "LayoutModel",
            "justify_items": null,
            "grid_row": null,
            "max_height": null,
            "align_content": null,
            "visibility": null,
            "align_self": null,
            "height": null,
            "min_height": null,
            "padding": null,
            "grid_auto_rows": null,
            "grid_gap": null,
            "max_width": null,
            "order": null,
            "_view_module_version": "1.2.0",
            "grid_template_areas": null,
            "object_position": null,
            "object_fit": null,
            "grid_auto_columns": null,
            "margin": null,
            "display": null,
            "left": null
          }
        },
        "fd28c854a06c4e5b94c5ddfda24af516": {
          "model_module": "@jupyter-widgets/controls",
          "model_name": "HBoxModel",
          "state": {
            "_view_name": "HBoxView",
            "_dom_classes": [],
            "_model_name": "HBoxModel",
            "_view_module": "@jupyter-widgets/controls",
            "_model_module_version": "1.5.0",
            "_view_count": null,
            "_view_module_version": "1.5.0",
            "box_style": "",
            "layout": "IPY_MODEL_91d3b32f27f341eabede909af04ce1ff",
            "_model_module": "@jupyter-widgets/controls",
            "children": [
              "IPY_MODEL_68d90c5053024cc498a2287f3a5e59a5",
              "IPY_MODEL_81a2b3484f9e4da6aef3f7eeacd27ddb"
            ]
          }
        },
        "91d3b32f27f341eabede909af04ce1ff": {
          "model_module": "@jupyter-widgets/base",
          "model_name": "LayoutModel",
          "state": {
            "_view_name": "LayoutView",
            "grid_template_rows": null,
            "right": null,
            "justify_content": null,
            "_view_module": "@jupyter-widgets/base",
            "overflow": null,
            "_model_module_version": "1.2.0",
            "_view_count": null,
            "flex_flow": null,
            "width": null,
            "min_width": null,
            "border": null,
            "align_items": null,
            "bottom": null,
            "_model_module": "@jupyter-widgets/base",
            "top": null,
            "grid_column": null,
            "overflow_y": null,
            "overflow_x": null,
            "grid_auto_flow": null,
            "grid_area": null,
            "grid_template_columns": null,
            "flex": null,
            "_model_name": "LayoutModel",
            "justify_items": null,
            "grid_row": null,
            "max_height": null,
            "align_content": null,
            "visibility": null,
            "align_self": null,
            "height": null,
            "min_height": null,
            "padding": null,
            "grid_auto_rows": null,
            "grid_gap": null,
            "max_width": null,
            "order": null,
            "_view_module_version": "1.2.0",
            "grid_template_areas": null,
            "object_position": null,
            "object_fit": null,
            "grid_auto_columns": null,
            "margin": null,
            "display": null,
            "left": null
          }
        },
        "68d90c5053024cc498a2287f3a5e59a5": {
          "model_module": "@jupyter-widgets/controls",
          "model_name": "FloatProgressModel",
          "state": {
            "_view_name": "ProgressView",
            "style": "IPY_MODEL_9965629dbe334ed5abeda04207aa7e62",
            "_dom_classes": [],
            "description": "",
            "_model_name": "FloatProgressModel",
            "bar_style": "success",
            "max": 28881,
            "_view_module": "@jupyter-widgets/controls",
            "_model_module_version": "1.5.0",
            "value": 28881,
            "_view_count": null,
            "_view_module_version": "1.5.0",
            "orientation": "horizontal",
            "min": 0,
            "description_tooltip": null,
            "_model_module": "@jupyter-widgets/controls",
            "layout": "IPY_MODEL_e393d9229de04f1787c98213ac52f551"
          }
        },
        "81a2b3484f9e4da6aef3f7eeacd27ddb": {
          "model_module": "@jupyter-widgets/controls",
          "model_name": "HTMLModel",
          "state": {
            "_view_name": "HTMLView",
            "style": "IPY_MODEL_abb90e350c0342009b78b9fb6bf84109",
            "_dom_classes": [],
            "description": "",
            "_model_name": "HTMLModel",
            "placeholder": "​",
            "_view_module": "@jupyter-widgets/controls",
            "_model_module_version": "1.5.0",
            "value": " 29696/? [00:02&lt;00:00, 12183.55it/s]",
            "_view_count": null,
            "_view_module_version": "1.5.0",
            "description_tooltip": null,
            "_model_module": "@jupyter-widgets/controls",
            "layout": "IPY_MODEL_b5f7d37c91814feab47e3ef3922e9623"
          }
        },
        "9965629dbe334ed5abeda04207aa7e62": {
          "model_module": "@jupyter-widgets/controls",
          "model_name": "ProgressStyleModel",
          "state": {
            "_view_name": "StyleView",
            "_model_name": "ProgressStyleModel",
            "description_width": "initial",
            "_view_module": "@jupyter-widgets/base",
            "_model_module_version": "1.5.0",
            "_view_count": null,
            "_view_module_version": "1.2.0",
            "bar_color": null,
            "_model_module": "@jupyter-widgets/controls"
          }
        },
        "e393d9229de04f1787c98213ac52f551": {
          "model_module": "@jupyter-widgets/base",
          "model_name": "LayoutModel",
          "state": {
            "_view_name": "LayoutView",
            "grid_template_rows": null,
            "right": null,
            "justify_content": null,
            "_view_module": "@jupyter-widgets/base",
            "overflow": null,
            "_model_module_version": "1.2.0",
            "_view_count": null,
            "flex_flow": null,
            "width": null,
            "min_width": null,
            "border": null,
            "align_items": null,
            "bottom": null,
            "_model_module": "@jupyter-widgets/base",
            "top": null,
            "grid_column": null,
            "overflow_y": null,
            "overflow_x": null,
            "grid_auto_flow": null,
            "grid_area": null,
            "grid_template_columns": null,
            "flex": null,
            "_model_name": "LayoutModel",
            "justify_items": null,
            "grid_row": null,
            "max_height": null,
            "align_content": null,
            "visibility": null,
            "align_self": null,
            "height": null,
            "min_height": null,
            "padding": null,
            "grid_auto_rows": null,
            "grid_gap": null,
            "max_width": null,
            "order": null,
            "_view_module_version": "1.2.0",
            "grid_template_areas": null,
            "object_position": null,
            "object_fit": null,
            "grid_auto_columns": null,
            "margin": null,
            "display": null,
            "left": null
          }
        },
        "abb90e350c0342009b78b9fb6bf84109": {
          "model_module": "@jupyter-widgets/controls",
          "model_name": "DescriptionStyleModel",
          "state": {
            "_view_name": "StyleView",
            "_model_name": "DescriptionStyleModel",
            "description_width": "",
            "_view_module": "@jupyter-widgets/base",
            "_model_module_version": "1.5.0",
            "_view_count": null,
            "_view_module_version": "1.2.0",
            "_model_module": "@jupyter-widgets/controls"
          }
        },
        "b5f7d37c91814feab47e3ef3922e9623": {
          "model_module": "@jupyter-widgets/base",
          "model_name": "LayoutModel",
          "state": {
            "_view_name": "LayoutView",
            "grid_template_rows": null,
            "right": null,
            "justify_content": null,
            "_view_module": "@jupyter-widgets/base",
            "overflow": null,
            "_model_module_version": "1.2.0",
            "_view_count": null,
            "flex_flow": null,
            "width": null,
            "min_width": null,
            "border": null,
            "align_items": null,
            "bottom": null,
            "_model_module": "@jupyter-widgets/base",
            "top": null,
            "grid_column": null,
            "overflow_y": null,
            "overflow_x": null,
            "grid_auto_flow": null,
            "grid_area": null,
            "grid_template_columns": null,
            "flex": null,
            "_model_name": "LayoutModel",
            "justify_items": null,
            "grid_row": null,
            "max_height": null,
            "align_content": null,
            "visibility": null,
            "align_self": null,
            "height": null,
            "min_height": null,
            "padding": null,
            "grid_auto_rows": null,
            "grid_gap": null,
            "max_width": null,
            "order": null,
            "_view_module_version": "1.2.0",
            "grid_template_areas": null,
            "object_position": null,
            "object_fit": null,
            "grid_auto_columns": null,
            "margin": null,
            "display": null,
            "left": null
          }
        },
        "cec7ad2c698f413f8be9c399df075b08": {
          "model_module": "@jupyter-widgets/controls",
          "model_name": "HBoxModel",
          "state": {
            "_view_name": "HBoxView",
            "_dom_classes": [],
            "_model_name": "HBoxModel",
            "_view_module": "@jupyter-widgets/controls",
            "_model_module_version": "1.5.0",
            "_view_count": null,
            "_view_module_version": "1.5.0",
            "box_style": "",
            "layout": "IPY_MODEL_8ccd9df68f5848a2984165d5c7434084",
            "_model_module": "@jupyter-widgets/controls",
            "children": [
              "IPY_MODEL_3d3ce92445fa418c89a0c306131dee69",
              "IPY_MODEL_4c826901f1034977a73cb8ff679463dd"
            ]
          }
        },
        "8ccd9df68f5848a2984165d5c7434084": {
          "model_module": "@jupyter-widgets/base",
          "model_name": "LayoutModel",
          "state": {
            "_view_name": "LayoutView",
            "grid_template_rows": null,
            "right": null,
            "justify_content": null,
            "_view_module": "@jupyter-widgets/base",
            "overflow": null,
            "_model_module_version": "1.2.0",
            "_view_count": null,
            "flex_flow": null,
            "width": null,
            "min_width": null,
            "border": null,
            "align_items": null,
            "bottom": null,
            "_model_module": "@jupyter-widgets/base",
            "top": null,
            "grid_column": null,
            "overflow_y": null,
            "overflow_x": null,
            "grid_auto_flow": null,
            "grid_area": null,
            "grid_template_columns": null,
            "flex": null,
            "_model_name": "LayoutModel",
            "justify_items": null,
            "grid_row": null,
            "max_height": null,
            "align_content": null,
            "visibility": null,
            "align_self": null,
            "height": null,
            "min_height": null,
            "padding": null,
            "grid_auto_rows": null,
            "grid_gap": null,
            "max_width": null,
            "order": null,
            "_view_module_version": "1.2.0",
            "grid_template_areas": null,
            "object_position": null,
            "object_fit": null,
            "grid_auto_columns": null,
            "margin": null,
            "display": null,
            "left": null
          }
        },
        "3d3ce92445fa418c89a0c306131dee69": {
          "model_module": "@jupyter-widgets/controls",
          "model_name": "FloatProgressModel",
          "state": {
            "_view_name": "ProgressView",
            "style": "IPY_MODEL_ab161a1029594f09814a8d0eb192746c",
            "_dom_classes": [],
            "description": "",
            "_model_name": "FloatProgressModel",
            "bar_style": "success",
            "max": 1648877,
            "_view_module": "@jupyter-widgets/controls",
            "_model_module_version": "1.5.0",
            "value": 1648877,
            "_view_count": null,
            "_view_module_version": "1.5.0",
            "orientation": "horizontal",
            "min": 0,
            "description_tooltip": null,
            "_model_module": "@jupyter-widgets/controls",
            "layout": "IPY_MODEL_f7a0e3e4e98744e7b6bba462623bf472"
          }
        },
        "4c826901f1034977a73cb8ff679463dd": {
          "model_module": "@jupyter-widgets/controls",
          "model_name": "HTMLModel",
          "state": {
            "_view_name": "HTMLView",
            "style": "IPY_MODEL_210690d78af849109d72c22a3dcbda45",
            "_dom_classes": [],
            "description": "",
            "_model_name": "HTMLModel",
            "placeholder": "​",
            "_view_module": "@jupyter-widgets/controls",
            "_model_module_version": "1.5.0",
            "value": " 1649664/? [00:03&lt;00:00, 440358.61it/s]",
            "_view_count": null,
            "_view_module_version": "1.5.0",
            "description_tooltip": null,
            "_model_module": "@jupyter-widgets/controls",
            "layout": "IPY_MODEL_83ec6f7060d0447db3480b96daeecd51"
          }
        },
        "ab161a1029594f09814a8d0eb192746c": {
          "model_module": "@jupyter-widgets/controls",
          "model_name": "ProgressStyleModel",
          "state": {
            "_view_name": "StyleView",
            "_model_name": "ProgressStyleModel",
            "description_width": "initial",
            "_view_module": "@jupyter-widgets/base",
            "_model_module_version": "1.5.0",
            "_view_count": null,
            "_view_module_version": "1.2.0",
            "bar_color": null,
            "_model_module": "@jupyter-widgets/controls"
          }
        },
        "f7a0e3e4e98744e7b6bba462623bf472": {
          "model_module": "@jupyter-widgets/base",
          "model_name": "LayoutModel",
          "state": {
            "_view_name": "LayoutView",
            "grid_template_rows": null,
            "right": null,
            "justify_content": null,
            "_view_module": "@jupyter-widgets/base",
            "overflow": null,
            "_model_module_version": "1.2.0",
            "_view_count": null,
            "flex_flow": null,
            "width": null,
            "min_width": null,
            "border": null,
            "align_items": null,
            "bottom": null,
            "_model_module": "@jupyter-widgets/base",
            "top": null,
            "grid_column": null,
            "overflow_y": null,
            "overflow_x": null,
            "grid_auto_flow": null,
            "grid_area": null,
            "grid_template_columns": null,
            "flex": null,
            "_model_name": "LayoutModel",
            "justify_items": null,
            "grid_row": null,
            "max_height": null,
            "align_content": null,
            "visibility": null,
            "align_self": null,
            "height": null,
            "min_height": null,
            "padding": null,
            "grid_auto_rows": null,
            "grid_gap": null,
            "max_width": null,
            "order": null,
            "_view_module_version": "1.2.0",
            "grid_template_areas": null,
            "object_position": null,
            "object_fit": null,
            "grid_auto_columns": null,
            "margin": null,
            "display": null,
            "left": null
          }
        },
        "210690d78af849109d72c22a3dcbda45": {
          "model_module": "@jupyter-widgets/controls",
          "model_name": "DescriptionStyleModel",
          "state": {
            "_view_name": "StyleView",
            "_model_name": "DescriptionStyleModel",
            "description_width": "",
            "_view_module": "@jupyter-widgets/base",
            "_model_module_version": "1.5.0",
            "_view_count": null,
            "_view_module_version": "1.2.0",
            "_model_module": "@jupyter-widgets/controls"
          }
        },
        "83ec6f7060d0447db3480b96daeecd51": {
          "model_module": "@jupyter-widgets/base",
          "model_name": "LayoutModel",
          "state": {
            "_view_name": "LayoutView",
            "grid_template_rows": null,
            "right": null,
            "justify_content": null,
            "_view_module": "@jupyter-widgets/base",
            "overflow": null,
            "_model_module_version": "1.2.0",
            "_view_count": null,
            "flex_flow": null,
            "width": null,
            "min_width": null,
            "border": null,
            "align_items": null,
            "bottom": null,
            "_model_module": "@jupyter-widgets/base",
            "top": null,
            "grid_column": null,
            "overflow_y": null,
            "overflow_x": null,
            "grid_auto_flow": null,
            "grid_area": null,
            "grid_template_columns": null,
            "flex": null,
            "_model_name": "LayoutModel",
            "justify_items": null,
            "grid_row": null,
            "max_height": null,
            "align_content": null,
            "visibility": null,
            "align_self": null,
            "height": null,
            "min_height": null,
            "padding": null,
            "grid_auto_rows": null,
            "grid_gap": null,
            "max_width": null,
            "order": null,
            "_view_module_version": "1.2.0",
            "grid_template_areas": null,
            "object_position": null,
            "object_fit": null,
            "grid_auto_columns": null,
            "margin": null,
            "display": null,
            "left": null
          }
        },
        "e21c23a60a1b4609a6038cc04588e536": {
          "model_module": "@jupyter-widgets/controls",
          "model_name": "HBoxModel",
          "state": {
            "_view_name": "HBoxView",
            "_dom_classes": [],
            "_model_name": "HBoxModel",
            "_view_module": "@jupyter-widgets/controls",
            "_model_module_version": "1.5.0",
            "_view_count": null,
            "_view_module_version": "1.5.0",
            "box_style": "",
            "layout": "IPY_MODEL_d16f7e3971a846a19012fce177ae2bf1",
            "_model_module": "@jupyter-widgets/controls",
            "children": [
              "IPY_MODEL_41c536b2ab0e4f5c85af2cb801316c66",
              "IPY_MODEL_3d73d34befad48d4b7eae694235212eb"
            ]
          }
        },
        "d16f7e3971a846a19012fce177ae2bf1": {
          "model_module": "@jupyter-widgets/base",
          "model_name": "LayoutModel",
          "state": {
            "_view_name": "LayoutView",
            "grid_template_rows": null,
            "right": null,
            "justify_content": null,
            "_view_module": "@jupyter-widgets/base",
            "overflow": null,
            "_model_module_version": "1.2.0",
            "_view_count": null,
            "flex_flow": null,
            "width": null,
            "min_width": null,
            "border": null,
            "align_items": null,
            "bottom": null,
            "_model_module": "@jupyter-widgets/base",
            "top": null,
            "grid_column": null,
            "overflow_y": null,
            "overflow_x": null,
            "grid_auto_flow": null,
            "grid_area": null,
            "grid_template_columns": null,
            "flex": null,
            "_model_name": "LayoutModel",
            "justify_items": null,
            "grid_row": null,
            "max_height": null,
            "align_content": null,
            "visibility": null,
            "align_self": null,
            "height": null,
            "min_height": null,
            "padding": null,
            "grid_auto_rows": null,
            "grid_gap": null,
            "max_width": null,
            "order": null,
            "_view_module_version": "1.2.0",
            "grid_template_areas": null,
            "object_position": null,
            "object_fit": null,
            "grid_auto_columns": null,
            "margin": null,
            "display": null,
            "left": null
          }
        },
        "41c536b2ab0e4f5c85af2cb801316c66": {
          "model_module": "@jupyter-widgets/controls",
          "model_name": "FloatProgressModel",
          "state": {
            "_view_name": "ProgressView",
            "style": "IPY_MODEL_38ead8b9f0cf4609a9f6ab8b028923e4",
            "_dom_classes": [],
            "description": "",
            "_model_name": "FloatProgressModel",
            "bar_style": "success",
            "max": 4542,
            "_view_module": "@jupyter-widgets/controls",
            "_model_module_version": "1.5.0",
            "value": 4542,
            "_view_count": null,
            "_view_module_version": "1.5.0",
            "orientation": "horizontal",
            "min": 0,
            "description_tooltip": null,
            "_model_module": "@jupyter-widgets/controls",
            "layout": "IPY_MODEL_321510c21e2b46a1a97871f73b187318"
          }
        },
        "3d73d34befad48d4b7eae694235212eb": {
          "model_module": "@jupyter-widgets/controls",
          "model_name": "HTMLModel",
          "state": {
            "_view_name": "HTMLView",
            "style": "IPY_MODEL_ee65eb7ddee7494ea2614ff16088122a",
            "_dom_classes": [],
            "description": "",
            "_model_name": "HTMLModel",
            "placeholder": "​",
            "_view_module": "@jupyter-widgets/controls",
            "_model_module_version": "1.5.0",
            "value": " 5120/? [00:00&lt;00:00, 18911.88it/s]",
            "_view_count": null,
            "_view_module_version": "1.5.0",
            "description_tooltip": null,
            "_model_module": "@jupyter-widgets/controls",
            "layout": "IPY_MODEL_36c66b3d125c47a099b6feaac08a1344"
          }
        },
        "38ead8b9f0cf4609a9f6ab8b028923e4": {
          "model_module": "@jupyter-widgets/controls",
          "model_name": "ProgressStyleModel",
          "state": {
            "_view_name": "StyleView",
            "_model_name": "ProgressStyleModel",
            "description_width": "initial",
            "_view_module": "@jupyter-widgets/base",
            "_model_module_version": "1.5.0",
            "_view_count": null,
            "_view_module_version": "1.2.0",
            "bar_color": null,
            "_model_module": "@jupyter-widgets/controls"
          }
        },
        "321510c21e2b46a1a97871f73b187318": {
          "model_module": "@jupyter-widgets/base",
          "model_name": "LayoutModel",
          "state": {
            "_view_name": "LayoutView",
            "grid_template_rows": null,
            "right": null,
            "justify_content": null,
            "_view_module": "@jupyter-widgets/base",
            "overflow": null,
            "_model_module_version": "1.2.0",
            "_view_count": null,
            "flex_flow": null,
            "width": null,
            "min_width": null,
            "border": null,
            "align_items": null,
            "bottom": null,
            "_model_module": "@jupyter-widgets/base",
            "top": null,
            "grid_column": null,
            "overflow_y": null,
            "overflow_x": null,
            "grid_auto_flow": null,
            "grid_area": null,
            "grid_template_columns": null,
            "flex": null,
            "_model_name": "LayoutModel",
            "justify_items": null,
            "grid_row": null,
            "max_height": null,
            "align_content": null,
            "visibility": null,
            "align_self": null,
            "height": null,
            "min_height": null,
            "padding": null,
            "grid_auto_rows": null,
            "grid_gap": null,
            "max_width": null,
            "order": null,
            "_view_module_version": "1.2.0",
            "grid_template_areas": null,
            "object_position": null,
            "object_fit": null,
            "grid_auto_columns": null,
            "margin": null,
            "display": null,
            "left": null
          }
        },
        "ee65eb7ddee7494ea2614ff16088122a": {
          "model_module": "@jupyter-widgets/controls",
          "model_name": "DescriptionStyleModel",
          "state": {
            "_view_name": "StyleView",
            "_model_name": "DescriptionStyleModel",
            "description_width": "",
            "_view_module": "@jupyter-widgets/base",
            "_model_module_version": "1.5.0",
            "_view_count": null,
            "_view_module_version": "1.2.0",
            "_model_module": "@jupyter-widgets/controls"
          }
        },
        "36c66b3d125c47a099b6feaac08a1344": {
          "model_module": "@jupyter-widgets/base",
          "model_name": "LayoutModel",
          "state": {
            "_view_name": "LayoutView",
            "grid_template_rows": null,
            "right": null,
            "justify_content": null,
            "_view_module": "@jupyter-widgets/base",
            "overflow": null,
            "_model_module_version": "1.2.0",
            "_view_count": null,
            "flex_flow": null,
            "width": null,
            "min_width": null,
            "border": null,
            "align_items": null,
            "bottom": null,
            "_model_module": "@jupyter-widgets/base",
            "top": null,
            "grid_column": null,
            "overflow_y": null,
            "overflow_x": null,
            "grid_auto_flow": null,
            "grid_area": null,
            "grid_template_columns": null,
            "flex": null,
            "_model_name": "LayoutModel",
            "justify_items": null,
            "grid_row": null,
            "max_height": null,
            "align_content": null,
            "visibility": null,
            "align_self": null,
            "height": null,
            "min_height": null,
            "padding": null,
            "grid_auto_rows": null,
            "grid_gap": null,
            "max_width": null,
            "order": null,
            "_view_module_version": "1.2.0",
            "grid_template_areas": null,
            "object_position": null,
            "object_fit": null,
            "grid_auto_columns": null,
            "margin": null,
            "display": null,
            "left": null
          }
        }
      }
    }
  },
  "cells": [
    {
      "cell_type": "markdown",
      "metadata": {
        "id": "lQTowZ7L3r_r"
      },
      "source": [
        "# Logistic Regression using MNIST\n",
        "\n",
        "We'll use the famous [MNIST Handwritten Digits Database](http://yann.lecun.com/exdb/mnist/) for training. It consists of 28x28 grayscale images of handwritten digits (0 to 9) and labels for each image indicating which digit it represents.\n",
        "![mnist-sample](https://i.imgur.com/CAYnuo1.jpg)"
      ]
    },
    {
      "cell_type": "markdown",
      "metadata": {
        "id": "4XaAmiRq4HHt"
      },
      "source": [
        "Import `torch` and `torchvision`. \n",
        "\n",
        "`torchvision` contains some utilities for working with image data. It also provides helper classes, to download and import popular datasets like MNIST automatically."
      ]
    },
    {
      "cell_type": "code",
      "metadata": {
        "id": "qvuY11la4VPY"
      },
      "source": [
        "import torch\n",
        "import torchvision\n",
        "from torchvision.datasets import MNIST\n",
        "\n",
        "import numpy as np"
      ],
      "execution_count": 1,
      "outputs": []
    },
    {
      "cell_type": "code",
      "metadata": {
        "colab": {
          "base_uri": "https://localhost:8080/",
          "height": 736,
          "referenced_widgets": [
            "d600d4a49ef54742afdda94fc2b25f0a",
            "504fc5e56fa74bbf805426370760353e",
            "2e79dcdeb6464bc0a6e8e23ccdbda3f3",
            "222ad3e1ff984ecebf24685a9fed86dc",
            "0082fb8644ff4704b1473bdb171d95b3",
            "b6489a9c8dcc4a988fdcaeabf86338cd",
            "1bfd7aee40ca4f82992808a8377f61d9",
            "ab598fae1e2747ce8c3c0343abdc1a78",
            "fd28c854a06c4e5b94c5ddfda24af516",
            "91d3b32f27f341eabede909af04ce1ff",
            "68d90c5053024cc498a2287f3a5e59a5",
            "81a2b3484f9e4da6aef3f7eeacd27ddb",
            "9965629dbe334ed5abeda04207aa7e62",
            "e393d9229de04f1787c98213ac52f551",
            "abb90e350c0342009b78b9fb6bf84109",
            "b5f7d37c91814feab47e3ef3922e9623",
            "cec7ad2c698f413f8be9c399df075b08",
            "8ccd9df68f5848a2984165d5c7434084",
            "3d3ce92445fa418c89a0c306131dee69",
            "4c826901f1034977a73cb8ff679463dd",
            "ab161a1029594f09814a8d0eb192746c",
            "f7a0e3e4e98744e7b6bba462623bf472",
            "210690d78af849109d72c22a3dcbda45",
            "83ec6f7060d0447db3480b96daeecd51",
            "e21c23a60a1b4609a6038cc04588e536",
            "d16f7e3971a846a19012fce177ae2bf1",
            "41c536b2ab0e4f5c85af2cb801316c66",
            "3d73d34befad48d4b7eae694235212eb",
            "38ead8b9f0cf4609a9f6ab8b028923e4",
            "321510c21e2b46a1a97871f73b187318",
            "ee65eb7ddee7494ea2614ff16088122a",
            "36c66b3d125c47a099b6feaac08a1344"
          ]
        },
        "id": "URTnkRo64Wcg",
        "outputId": "3e590ec9-06a6-457a-c57e-9b1bbb537309"
      },
      "source": [
        "# Download dataset for training\n",
        "dataset = MNIST(root='data/', download=True)"
      ],
      "execution_count": 2,
      "outputs": [
        {
          "output_type": "stream",
          "text": [
            "Downloading http://yann.lecun.com/exdb/mnist/train-images-idx3-ubyte.gz\n",
            "Failed to download (trying next):\n",
            "HTTP Error 503: Service Unavailable\n",
            "\n",
            "Downloading https://ossci-datasets.s3.amazonaws.com/mnist/train-images-idx3-ubyte.gz\n",
            "Downloading https://ossci-datasets.s3.amazonaws.com/mnist/train-images-idx3-ubyte.gz to data/MNIST/raw/train-images-idx3-ubyte.gz\n"
          ],
          "name": "stdout"
        },
        {
          "output_type": "display_data",
          "data": {
            "application/vnd.jupyter.widget-view+json": {
              "model_id": "d600d4a49ef54742afdda94fc2b25f0a",
              "version_minor": 0,
              "version_major": 2
            },
            "text/plain": [
              "HBox(children=(FloatProgress(value=0.0, max=9912422.0), HTML(value='')))"
            ]
          },
          "metadata": {
            "tags": []
          }
        },
        {
          "output_type": "stream",
          "text": [
            "\n",
            "Extracting data/MNIST/raw/train-images-idx3-ubyte.gz to data/MNIST/raw\n",
            "\n",
            "Downloading http://yann.lecun.com/exdb/mnist/train-labels-idx1-ubyte.gz\n",
            "Downloading http://yann.lecun.com/exdb/mnist/train-labels-idx1-ubyte.gz to data/MNIST/raw/train-labels-idx1-ubyte.gz\n"
          ],
          "name": "stdout"
        },
        {
          "output_type": "display_data",
          "data": {
            "application/vnd.jupyter.widget-view+json": {
              "model_id": "fd28c854a06c4e5b94c5ddfda24af516",
              "version_minor": 0,
              "version_major": 2
            },
            "text/plain": [
              "HBox(children=(FloatProgress(value=0.0, max=28881.0), HTML(value='')))"
            ]
          },
          "metadata": {
            "tags": []
          }
        },
        {
          "output_type": "stream",
          "text": [
            "\n",
            "Extracting data/MNIST/raw/train-labels-idx1-ubyte.gz to data/MNIST/raw\n",
            "\n",
            "Downloading http://yann.lecun.com/exdb/mnist/t10k-images-idx3-ubyte.gz\n",
            "Failed to download (trying next):\n",
            "HTTP Error 503: Service Unavailable\n",
            "\n",
            "Downloading https://ossci-datasets.s3.amazonaws.com/mnist/t10k-images-idx3-ubyte.gz\n",
            "Downloading https://ossci-datasets.s3.amazonaws.com/mnist/t10k-images-idx3-ubyte.gz to data/MNIST/raw/t10k-images-idx3-ubyte.gz\n"
          ],
          "name": "stdout"
        },
        {
          "output_type": "display_data",
          "data": {
            "application/vnd.jupyter.widget-view+json": {
              "model_id": "cec7ad2c698f413f8be9c399df075b08",
              "version_minor": 0,
              "version_major": 2
            },
            "text/plain": [
              "HBox(children=(FloatProgress(value=0.0, max=1648877.0), HTML(value='')))"
            ]
          },
          "metadata": {
            "tags": []
          }
        },
        {
          "output_type": "stream",
          "text": [
            "\n",
            "Extracting data/MNIST/raw/t10k-images-idx3-ubyte.gz to data/MNIST/raw\n",
            "\n",
            "Downloading http://yann.lecun.com/exdb/mnist/t10k-labels-idx1-ubyte.gz\n",
            "Failed to download (trying next):\n",
            "HTTP Error 503: Service Unavailable\n",
            "\n",
            "Downloading https://ossci-datasets.s3.amazonaws.com/mnist/t10k-labels-idx1-ubyte.gz\n",
            "Downloading https://ossci-datasets.s3.amazonaws.com/mnist/t10k-labels-idx1-ubyte.gz to data/MNIST/raw/t10k-labels-idx1-ubyte.gz\n"
          ],
          "name": "stdout"
        },
        {
          "output_type": "display_data",
          "data": {
            "application/vnd.jupyter.widget-view+json": {
              "model_id": "e21c23a60a1b4609a6038cc04588e536",
              "version_minor": 0,
              "version_major": 2
            },
            "text/plain": [
              "HBox(children=(FloatProgress(value=0.0, max=4542.0), HTML(value='')))"
            ]
          },
          "metadata": {
            "tags": []
          }
        },
        {
          "output_type": "stream",
          "text": [
            "\n",
            "Extracting data/MNIST/raw/t10k-labels-idx1-ubyte.gz to data/MNIST/raw\n",
            "\n"
          ],
          "name": "stdout"
        },
        {
          "output_type": "stream",
          "text": [
            "/usr/local/lib/python3.7/dist-packages/torchvision/datasets/mnist.py:498: UserWarning: The given NumPy array is not writeable, and PyTorch does not support non-writeable tensors. This means you can write to the underlying (supposedly non-writeable) NumPy array using the tensor. You may want to copy the array to protect its data or make it writeable before converting it to a tensor. This type of warning will be suppressed for the rest of this program. (Triggered internally at  /pytorch/torch/csrc/utils/tensor_numpy.cpp:180.)\n",
            "  return torch.from_numpy(parsed.astype(m[2], copy=False)).view(*s)\n"
          ],
          "name": "stderr"
        }
      ]
    },
    {
      "cell_type": "markdown",
      "metadata": {
        "id": "AHmXdpEB45LW"
      },
      "source": [
        "The above command downloads the data (the first time it is run) to the `data/` directory (Check Files) and creates a PyTorch `Dataset`. On subsequent executions, the download is skipped as the data is already downloaded. "
      ]
    },
    {
      "cell_type": "code",
      "metadata": {
        "colab": {
          "base_uri": "https://localhost:8080/"
        },
        "id": "cIEGJCK14glA",
        "outputId": "e54b26ab-2230-4299-fbfc-92a9d92b9274"
      },
      "source": [
        "len(dataset)"
      ],
      "execution_count": 3,
      "outputs": [
        {
          "output_type": "execute_result",
          "data": {
            "text/plain": [
              "60000"
            ]
          },
          "metadata": {
            "tags": []
          },
          "execution_count": 3
        }
      ]
    },
    {
      "cell_type": "markdown",
      "metadata": {
        "id": "DgEkItXF5TYE"
      },
      "source": [
        "The dataset has 60,000 images used to train the model. There is also an additional test set of 10,000 images used for testing and evaluating the model. We can create the test dataset using the `MNIST` class by passing `train=False` to the constructor."
      ]
    },
    {
      "cell_type": "code",
      "metadata": {
        "colab": {
          "base_uri": "https://localhost:8080/"
        },
        "id": "kH9X7Re842Y6",
        "outputId": "5054cc19-1038-42f7-881d-7817d032ffd0"
      },
      "source": [
        "test_dataset = MNIST(root='data/', train=False)\n",
        "len(test_dataset)"
      ],
      "execution_count": 4,
      "outputs": [
        {
          "output_type": "execute_result",
          "data": {
            "text/plain": [
              "10000"
            ]
          },
          "metadata": {
            "tags": []
          },
          "execution_count": 4
        }
      ]
    },
    {
      "cell_type": "markdown",
      "metadata": {
        "id": "i_T_9urr5klw"
      },
      "source": [
        "A sample in the dataset looks as follows"
      ]
    },
    {
      "cell_type": "code",
      "metadata": {
        "colab": {
          "base_uri": "https://localhost:8080/"
        },
        "id": "STIRsk5Y5gr8",
        "outputId": "cf04c074-6581-47d3-a392-b3da6d2a9e84"
      },
      "source": [
        "dataset[0]"
      ],
      "execution_count": 5,
      "outputs": [
        {
          "output_type": "execute_result",
          "data": {
            "text/plain": [
              "(<PIL.Image.Image image mode=L size=28x28 at 0x7FB10F798650>, 5)"
            ]
          },
          "metadata": {
            "tags": []
          },
          "execution_count": 5
        }
      ]
    },
    {
      "cell_type": "markdown",
      "metadata": {
        "id": "l5hv7qXS5sxM"
      },
      "source": [
        "It is an image of size 28x28. The image is an object of class `PIL.Image.Image`,which is a part of Python imaging library **Pillow**. We can use `matplotlib` to view the image in our Colab notebook"
      ]
    },
    {
      "cell_type": "code",
      "metadata": {
        "id": "BgnT7Wk25q3F"
      },
      "source": [
        "import matplotlib.pyplot as plt\n",
        "%matplotlib inline"
      ],
      "execution_count": 6,
      "outputs": []
    },
    {
      "cell_type": "markdown",
      "metadata": {
        "id": "_1eV-YX26Kh4"
      },
      "source": [
        "`%matplotlib inline` indicates to Colab that we want to plot the graphs within the notebook."
      ]
    },
    {
      "cell_type": "code",
      "metadata": {
        "colab": {
          "base_uri": "https://localhost:8080/",
          "height": 282
        },
        "id": "yxDe_pCZ6J4g",
        "outputId": "51a1fb39-f746-47a3-8e5f-543b3efc8f69"
      },
      "source": [
        "image, label = dataset[0]\n",
        "plt.imshow(image, cmap='gray')\n",
        "print('Label:', label)"
      ],
      "execution_count": 7,
      "outputs": [
        {
          "output_type": "stream",
          "text": [
            "Label: 5\n"
          ],
          "name": "stdout"
        },
        {
          "output_type": "display_data",
          "data": {
            "image/png": "[encoded data removed]",
            "text/plain": [
              "<Figure size 432x288 with 1 Axes>"
            ]
          },
          "metadata": {
            "tags": [],
            "needs_background": "light"
          }
        }
      ]
    },
    {
      "cell_type": "markdown",
      "metadata": {
        "id": "JXZWLF_e6b0g"
      },
      "source": [
        "PyTorch doesn't know how to work with images in their raw form. So, we need to convert these images to Tensors. We do this by specifying a transform while creating our dataset."
      ]
    },
    {
      "cell_type": "code",
      "metadata": {
        "id": "XB4jwuNm6XSf"
      },
      "source": [
        "import torchvision.transforms as transforms"
      ],
      "execution_count": 8,
      "outputs": []
    },
    {
      "cell_type": "markdown",
      "metadata": {
        "id": "4BkrHbzG6udW"
      },
      "source": [
        "PyTorch datasets allow us to specify one or more transformation functions that are applied to the images as they are loaded. The `torchvision.transforms` module contains many such predefined functions. We'll use the `ToTensor` transform to convert images into PyTorch tensors."
      ]
    },
    {
      "cell_type": "code",
      "metadata": {
        "id": "OEE1CVwk6uEU"
      },
      "source": [
        "dataset = MNIST(root='data/', \n",
        "                train=True,\n",
        "                transform=transforms.ToTensor())"
      ],
      "execution_count": 9,
      "outputs": []
    },
    {
      "cell_type": "code",
      "metadata": {
        "colab": {
          "base_uri": "https://localhost:8080/"
        },
        "id": "UqsMRu3A7PJ-",
        "outputId": "f67806e4-369d-4144-ab09-a25a5a475998"
      },
      "source": [
        "# Example\n",
        "img_tensor, label = dataset[0]\n",
        "#print(img_tensor)\n",
        "print(img_tensor.shape, label) "
      ],
      "execution_count": 10,
      "outputs": [
        {
          "output_type": "stream",
          "text": [
            "torch.Size([1, 28, 28]) 5\n"
          ],
          "name": "stdout"
        }
      ]
    },
    {
      "cell_type": "markdown",
      "metadata": {
        "id": "SFejGuN-7iME"
      },
      "source": [
        "The image is now converted to a 1x28x28 tensor. The first index/dimension corresponds to colour channel. This is a grayscale image and hence has only one colour channel. An RGB image has 3 channels each for R, G and B.\n",
        "\n",
        "If we print the `img_tensor`, we can view the array representation. The values range from 0 to 1 - 0 corresponds to black and 1 to white.\n",
        "\n",
        "We can also print and show a specific part of an image as follows:"
      ]
    },
    {
      "cell_type": "code",
      "metadata": {
        "colab": {
          "base_uri": "https://localhost:8080/",
          "height": 382
        },
        "id": "cy0cazi-7W1e",
        "outputId": "613d9ef9-d8b2-4ef4-d761-2aa2811f8cbb"
      },
      "source": [
        "print(f'Image Tensor: {img_tensor[0,10:15,10:15]}\\nImage Section:')\n",
        "plt.imshow(img_tensor[0,10:15,10:15], cmap='gray')\n"
      ],
      "execution_count": 11,
      "outputs": [
        {
          "output_type": "stream",
          "text": [
            "Image Tensor: tensor([[0.0039, 0.6039, 0.9922, 0.3529, 0.0000],\n",
            "        [0.0000, 0.5451, 0.9922, 0.7451, 0.0078],\n",
            "        [0.0000, 0.0431, 0.7451, 0.9922, 0.2745],\n",
            "        [0.0000, 0.0000, 0.1373, 0.9451, 0.8824],\n",
            "        [0.0000, 0.0000, 0.0000, 0.3176, 0.9412]])\n",
            "Image Section:\n"
          ],
          "name": "stdout"
        },
        {
          "output_type": "execute_result",
          "data": {
            "text/plain": [
              "<matplotlib.image.AxesImage at 0x7fb10f6eb190>"
            ]
          },
          "metadata": {
            "tags": []
          },
          "execution_count": 11
        },
        {
          "output_type": "display_data",
          "data": {
            "image/png": "[encoded data removed]",
            "text/plain": [
              "<Figure size 432x288 with 1 Axes>"
            ]
          },
          "metadata": {
            "tags": [],
            "needs_background": "light"
          }
        }
      ]
    },
    {
      "cell_type": "markdown",
      "metadata": {
        "id": "G8SChThc8tef"
      },
      "source": [
        "Now, for training our model, we need to split the dataset into 3 parts:\n",
        "* Training Set\n",
        "* Validation Set\n",
        "* Test Set\n",
        "\n",
        "**Validation set** is used to evaluate the model during training - for hyperparameter tuning, etc.\n",
        "\n",
        "For obtaining our validation set, let us randomly choose 20% of images from our training set of 60000 images i.e., we will be using 48000 images for training and 12000 images for validation."
      ]
    },
    {
      "cell_type": "code",
      "metadata": {
        "colab": {
          "base_uri": "https://localhost:8080/",
          "height": 102
        },
        "id": "_4Mgz4uK-Erm",
        "outputId": "684e7876-83c8-4927-9836-c6782a85c344"
      },
      "source": [
        "from torch.utils.data import random_split\n",
        "\n",
        "train_ds, val_ds = random_split(dataset, [48000, 12000])\n",
        "len(train_ds), len(val_ds)\n",
        "\n",
        "# Alternately\n",
        "'''import numpy as np\n",
        "\n",
        "def split_indices(n,val_pct):\n",
        "  # Determine the size of validation set\n",
        "  n_val = int(val_pct*n)\n",
        "  # Create a random permutation of 0 to n-1\n",
        "  indices = np.random.permutation(n)\n",
        "  # Pick first n_val indices for validation set\n",
        "  return indices[n_val:], indices[:n_val]\n",
        "\n",
        "train_indices, val_indices = split_indices(len(dataset),val_pct=0.2)'''"
      ],
      "execution_count": 12,
      "outputs": [
        {
          "output_type": "execute_result",
          "data": {
            "application/vnd.google.colaboratory.intrinsic+json": {
              "type": "string"
            },
            "text/plain": [
              "'import numpy as np\\n\\ndef split_indices(n,val_pct):\\n  # Determine the size of validation set\\n  n_val = int(val_pct*n)\\n  # Create a random permutation of 0 to n-1\\n  indices = np.random.permutation(n)\\n  # Pick first n_val indices for validation set\\n  return indices[n_val:], indices[:n_val]\\n\\ntrain_indices, val_indices = split_indices(len(dataset),val_pct=0.2)'"
            ]
          },
          "metadata": {
            "tags": []
          },
          "execution_count": 12
        }
      ]
    },
    {
      "cell_type": "markdown",
      "metadata": {
        "id": "d9IVWLtY-Mmr"
      },
      "source": [
        "It's essential to choose a random sample for creating a validation set. Training data is often sorted by the target labels, i.e., images of 0s, followed by 1s, followed by 2s, etc. If we create a validation set using the last 20% of images, it would only consist of 8s and 9s. In contrast, the training set would contain no 8s or 9s. Such a training-validation would make it impossible to train a useful model.\n",
        "\n",
        "We can now create data loaders to help us load the data in batches. We'll use a batch size of 128."
      ]
    },
    {
      "cell_type": "code",
      "metadata": {
        "id": "YAHy8tfO8odJ"
      },
      "source": [
        "from torch.utils.data import DataLoader\n",
        "\n",
        "batch_size = 128\n",
        "train_loader = DataLoader(train_ds, batch_size, shuffle=True)\n",
        "val_loader = DataLoader(val_ds, batch_size)"
      ],
      "execution_count": 13,
      "outputs": []
    },
    {
      "cell_type": "markdown",
      "metadata": {
        "id": "2GvhgLgw-ZUf"
      },
      "source": [
        "We set `shuffle=True` for the training data loader to ensure that the batches generated in each epoch are different. This randomization helps generalize & speed up the training process. \n",
        "\n",
        "Since the validation data loader is used only for evaluating the model, there is no need to shuffle the images. "
      ]
    },
    {
      "cell_type": "markdown",
      "metadata": {
        "id": "7OOXukvF-5SM"
      },
      "source": [
        "## Model\n",
        "* **Logistic regression** model is almost identical to a Linear regression model. It contains weights and bias matrices, and the output is obtained using matrix operations (`y = x @ w.t() + b`). \n",
        "\n",
        "* We can use `nn.Linear` to create the model instead of manually creating and initializing the matrices.\n",
        "\n",
        "* Since `nn.Linear` expects each training example to be a vector, each `1x28x28` image tensor is _flattened_ into a vector of size 784 `(28*28)` before being passed into the model. \n",
        "\n",
        "* The output for each image is a vector of size 10, with each element signifying the probability of a particular target label (i.e., 0 to 9). The predicted label for an image is simply the one with the highest probability."
      ]
    },
    {
      "cell_type": "code",
      "metadata": {
        "id": "BULu0Mfs-Yhc"
      },
      "source": [
        "import torch.nn as nn\n",
        "\n",
        "input_size = 28*28\n",
        "num_classes = 10\n",
        "\n",
        "# Logistic regression model\n",
        "model = nn.Linear(input_size, num_classes)"
      ],
      "execution_count": 14,
      "outputs": []
    },
    {
      "cell_type": "code",
      "metadata": {
        "colab": {
          "base_uri": "https://localhost:8080/"
        },
        "id": "IXCdCeoy_aLq",
        "outputId": "f8e70837-a34e-4bba-e5f8-dbadefa6c519"
      },
      "source": [
        "print(model.weight)\n",
        "print(model.weight.shape)"
      ],
      "execution_count": 15,
      "outputs": [
        {
          "output_type": "stream",
          "text": [
            "Parameter containing:\n",
            "tensor([[-0.0166, -0.0125,  0.0327,  ...,  0.0347, -0.0356, -0.0169],\n",
            "        [ 0.0033, -0.0295, -0.0227,  ...,  0.0177, -0.0047,  0.0190],\n",
            "        [ 0.0053,  0.0264, -0.0014,  ..., -0.0189, -0.0140,  0.0266],\n",
            "        ...,\n",
            "        [-0.0121,  0.0009, -0.0212,  ...,  0.0021,  0.0060, -0.0017],\n",
            "        [-0.0180,  0.0281,  0.0233,  ...,  0.0156, -0.0008,  0.0154],\n",
            "        [ 0.0107,  0.0295, -0.0073,  ...,  0.0199, -0.0172, -0.0213]],\n",
            "       requires_grad=True)\n",
            "torch.Size([10, 784])\n"
          ],
          "name": "stdout"
        }
      ]
    },
    {
      "cell_type": "code",
      "metadata": {
        "colab": {
          "base_uri": "https://localhost:8080/"
        },
        "id": "BqU65UV7KN4m",
        "outputId": "04cd8f2e-0495-4493-fdf9-e7f1c219121d"
      },
      "source": [
        "print(model.bias)\n",
        "print(model.bias.shape)"
      ],
      "execution_count": 16,
      "outputs": [
        {
          "output_type": "stream",
          "text": [
            "Parameter containing:\n",
            "tensor([-0.0112, -0.0247, -0.0135,  0.0073,  0.0102,  0.0284,  0.0002,  0.0063,\n",
            "         0.0084, -0.0351], requires_grad=True)\n",
            "torch.Size([10])\n"
          ],
          "name": "stdout"
        }
      ]
    },
    {
      "cell_type": "markdown",
      "metadata": {
        "id": "L3mVjWf_KTBz"
      },
      "source": [
        "Therefore, there are a total of 784x10 + 10 = 7850 parameters in our model. Let's generate some outputs using the model. we'll take the first batch of 128 images and pass them to our model."
      ]
    },
    {
      "cell_type": "code",
      "metadata": {
        "colab": {
          "base_uri": "https://localhost:8080/",
          "height": 522
        },
        "id": "46tO5_E0KkhH",
        "outputId": "06a9ccc9-6a9e-44f0-d377-2b7cfbf5d7e3"
      },
      "source": [
        "for images, labels in train_loader:\n",
        "    print(labels)\n",
        "    print(images.shape)\n",
        "    outputs = model(images)\n",
        "    print(outputs)\n",
        "    break"
      ],
      "execution_count": 17,
      "outputs": [
        {
          "output_type": "stream",
          "text": [
            "tensor([0, 4, 4, 6, 5, 4, 2, 0, 6, 0, 5, 5, 0, 6, 1, 0, 1, 1, 2, 6, 6, 3, 5, 7,\n",
            "        6, 2, 1, 3, 9, 7, 5, 8, 3, 1, 7, 0, 6, 4, 6, 2, 3, 1, 3, 4, 8, 9, 2, 4,\n",
            "        9, 4, 8, 1, 7, 8, 0, 4, 6, 0, 6, 7, 1, 4, 4, 7, 4, 6, 9, 2, 9, 7, 8, 1,\n",
            "        1, 4, 4, 9, 7, 3, 6, 0, 2, 3, 8, 7, 1, 9, 4, 2, 0, 7, 3, 9, 4, 2, 6, 0,\n",
            "        4, 6, 6, 6, 9, 6, 2, 0, 0, 1, 1, 3, 4, 1, 2, 6, 1, 7, 4, 3, 4, 2, 0, 8,\n",
            "        2, 8, 3, 6, 1, 1, 2, 1])\n",
            "torch.Size([128, 1, 28, 28])\n"
          ],
          "name": "stdout"
        },
        {
          "output_type": "error",
          "ename": "RuntimeError",
          "evalue": "ignored",
          "traceback": [
            "\u001b[0;31m---------------------------------------------------------------------------\u001b[0m",
            "\u001b[0;31mRuntimeError\u001b[0m                              Traceback (most recent call last)",
            "\u001b[0;32m<ipython-input-17-d0fe7d306f83>\u001b[0m in \u001b[0;36m<module>\u001b[0;34m()\u001b[0m\n\u001b[1;32m      2\u001b[0m     \u001b[0mprint\u001b[0m\u001b[0;34m(\u001b[0m\u001b[0mlabels\u001b[0m\u001b[0;34m)\u001b[0m\u001b[0;34m\u001b[0m\u001b[0;34m\u001b[0m\u001b[0m\n\u001b[1;32m      3\u001b[0m     \u001b[0mprint\u001b[0m\u001b[0;34m(\u001b[0m\u001b[0mimages\u001b[0m\u001b[0;34m.\u001b[0m\u001b[0mshape\u001b[0m\u001b[0;34m)\u001b[0m\u001b[0;34m\u001b[0m\u001b[0;34m\u001b[0m\u001b[0m\n\u001b[0;32m----> 4\u001b[0;31m     \u001b[0moutputs\u001b[0m \u001b[0;34m=\u001b[0m \u001b[0mmodel\u001b[0m\u001b[0;34m(\u001b[0m\u001b[0mimages\u001b[0m\u001b[0;34m)\u001b[0m\u001b[0;34m\u001b[0m\u001b[0;34m\u001b[0m\u001b[0m\n\u001b[0m\u001b[1;32m      5\u001b[0m     \u001b[0mprint\u001b[0m\u001b[0;34m(\u001b[0m\u001b[0moutputs\u001b[0m\u001b[0;34m)\u001b[0m\u001b[0;34m\u001b[0m\u001b[0;34m\u001b[0m\u001b[0m\n\u001b[1;32m      6\u001b[0m     \u001b[0;32mbreak\u001b[0m\u001b[0;34m\u001b[0m\u001b[0;34m\u001b[0m\u001b[0m\n",
            "\u001b[0;32m/usr/local/lib/python3.7/dist-packages/torch/nn/modules/module.py\u001b[0m in \u001b[0;36m_call_impl\u001b[0;34m(self, *input, **kwargs)\u001b[0m\n\u001b[1;32m   1049\u001b[0m         if not (self._backward_hooks or self._forward_hooks or self._forward_pre_hooks or _global_backward_hooks\n\u001b[1;32m   1050\u001b[0m                 or _global_forward_hooks or _global_forward_pre_hooks):\n\u001b[0;32m-> 1051\u001b[0;31m             \u001b[0;32mreturn\u001b[0m \u001b[0mforward_call\u001b[0m\u001b[0;34m(\u001b[0m\u001b[0;34m*\u001b[0m\u001b[0minput\u001b[0m\u001b[0;34m,\u001b[0m \u001b[0;34m**\u001b[0m\u001b[0mkwargs\u001b[0m\u001b[0;34m)\u001b[0m\u001b[0;34m\u001b[0m\u001b[0;34m\u001b[0m\u001b[0m\n\u001b[0m\u001b[1;32m   1052\u001b[0m         \u001b[0;31m# Do not call functions when jit is used\u001b[0m\u001b[0;34m\u001b[0m\u001b[0;34m\u001b[0m\u001b[0;34m\u001b[0m\u001b[0m\n\u001b[1;32m   1053\u001b[0m         \u001b[0mfull_backward_hooks\u001b[0m\u001b[0;34m,\u001b[0m \u001b[0mnon_full_backward_hooks\u001b[0m \u001b[0;34m=\u001b[0m \u001b[0;34m[\u001b[0m\u001b[0;34m]\u001b[0m\u001b[0;34m,\u001b[0m \u001b[0;34m[\u001b[0m\u001b[0;34m]\u001b[0m\u001b[0;34m\u001b[0m\u001b[0;34m\u001b[0m\u001b[0m\n",
            "\u001b[0;32m/usr/local/lib/python3.7/dist-packages/torch/nn/modules/linear.py\u001b[0m in \u001b[0;36mforward\u001b[0;34m(self, input)\u001b[0m\n\u001b[1;32m     94\u001b[0m \u001b[0;34m\u001b[0m\u001b[0m\n\u001b[1;32m     95\u001b[0m     \u001b[0;32mdef\u001b[0m \u001b[0mforward\u001b[0m\u001b[0;34m(\u001b[0m\u001b[0mself\u001b[0m\u001b[0;34m,\u001b[0m \u001b[0minput\u001b[0m\u001b[0;34m:\u001b[0m \u001b[0mTensor\u001b[0m\u001b[0;34m)\u001b[0m \u001b[0;34m->\u001b[0m \u001b[0mTensor\u001b[0m\u001b[0;34m:\u001b[0m\u001b[0;34m\u001b[0m\u001b[0;34m\u001b[0m\u001b[0m\n\u001b[0;32m---> 96\u001b[0;31m         \u001b[0;32mreturn\u001b[0m \u001b[0mF\u001b[0m\u001b[0;34m.\u001b[0m\u001b[0mlinear\u001b[0m\u001b[0;34m(\u001b[0m\u001b[0minput\u001b[0m\u001b[0;34m,\u001b[0m \u001b[0mself\u001b[0m\u001b[0;34m.\u001b[0m\u001b[0mweight\u001b[0m\u001b[0;34m,\u001b[0m \u001b[0mself\u001b[0m\u001b[0;34m.\u001b[0m\u001b[0mbias\u001b[0m\u001b[0;34m)\u001b[0m\u001b[0;34m\u001b[0m\u001b[0;34m\u001b[0m\u001b[0m\n\u001b[0m\u001b[1;32m     97\u001b[0m \u001b[0;34m\u001b[0m\u001b[0m\n\u001b[1;32m     98\u001b[0m     \u001b[0;32mdef\u001b[0m \u001b[0mextra_repr\u001b[0m\u001b[0;34m(\u001b[0m\u001b[0mself\u001b[0m\u001b[0;34m)\u001b[0m \u001b[0;34m->\u001b[0m \u001b[0mstr\u001b[0m\u001b[0;34m:\u001b[0m\u001b[0;34m\u001b[0m\u001b[0;34m\u001b[0m\u001b[0m\n",
            "\u001b[0;32m/usr/local/lib/python3.7/dist-packages/torch/nn/functional.py\u001b[0m in \u001b[0;36mlinear\u001b[0;34m(input, weight, bias)\u001b[0m\n\u001b[1;32m   1845\u001b[0m     \u001b[0;32mif\u001b[0m \u001b[0mhas_torch_function_variadic\u001b[0m\u001b[0;34m(\u001b[0m\u001b[0minput\u001b[0m\u001b[0;34m,\u001b[0m \u001b[0mweight\u001b[0m\u001b[0;34m)\u001b[0m\u001b[0;34m:\u001b[0m\u001b[0;34m\u001b[0m\u001b[0;34m\u001b[0m\u001b[0m\n\u001b[1;32m   1846\u001b[0m         \u001b[0;32mreturn\u001b[0m \u001b[0mhandle_torch_function\u001b[0m\u001b[0;34m(\u001b[0m\u001b[0mlinear\u001b[0m\u001b[0;34m,\u001b[0m \u001b[0;34m(\u001b[0m\u001b[0minput\u001b[0m\u001b[0;34m,\u001b[0m \u001b[0mweight\u001b[0m\u001b[0;34m)\u001b[0m\u001b[0;34m,\u001b[0m \u001b[0minput\u001b[0m\u001b[0;34m,\u001b[0m \u001b[0mweight\u001b[0m\u001b[0;34m,\u001b[0m \u001b[0mbias\u001b[0m\u001b[0;34m=\u001b[0m\u001b[0mbias\u001b[0m\u001b[0;34m)\u001b[0m\u001b[0;34m\u001b[0m\u001b[0;34m\u001b[0m\u001b[0m\n\u001b[0;32m-> 1847\u001b[0;31m     \u001b[0;32mreturn\u001b[0m \u001b[0mtorch\u001b[0m\u001b[0;34m.\u001b[0m\u001b[0m_C\u001b[0m\u001b[0;34m.\u001b[0m\u001b[0m_nn\u001b[0m\u001b[0;34m.\u001b[0m\u001b[0mlinear\u001b[0m\u001b[0;34m(\u001b[0m\u001b[0minput\u001b[0m\u001b[0;34m,\u001b[0m \u001b[0mweight\u001b[0m\u001b[0;34m,\u001b[0m \u001b[0mbias\u001b[0m\u001b[0;34m)\u001b[0m\u001b[0;34m\u001b[0m\u001b[0;34m\u001b[0m\u001b[0m\n\u001b[0m\u001b[1;32m   1848\u001b[0m \u001b[0;34m\u001b[0m\u001b[0m\n\u001b[1;32m   1849\u001b[0m \u001b[0;34m\u001b[0m\u001b[0m\n",
            "\u001b[0;31mRuntimeError\u001b[0m: mat1 and mat2 shapes cannot be multiplied (3584x28 and 784x10)"
          ]
        }
      ]
    },
    {
      "cell_type": "code",
      "metadata": {
        "colab": {
          "base_uri": "https://localhost:8080/"
        },
        "id": "7LiConUGPQUv",
        "outputId": "87ecca57-cbd5-4d50-e256-5c1b9af66608"
      },
      "source": [
        "images.reshape(batch_size,input_size).shape"
      ],
      "execution_count": 18,
      "outputs": [
        {
          "output_type": "execute_result",
          "data": {
            "text/plain": [
              "torch.Size([128, 784])"
            ]
          },
          "metadata": {
            "tags": []
          },
          "execution_count": 18
        }
      ]
    },
    {
      "cell_type": "markdown",
      "metadata": {
        "id": "oIreaUvKNvwm"
      },
      "source": [
        "This leads to an error because our input data does not have the right shape. Our images have a shape of 1x28x28, but we need them to be vectors of size 784, i.e., we need to flatten them. We'll use `.reshape`, which will allow us to efficiently 'view' each image as a flat vector without really creating a copy of the underlying data. \n",
        "\n",
        "To include this additional functionality within our model, we need to define a custom model by extending the `nn.Module` class from PyTorch."
      ]
    },
    {
      "cell_type": "code",
      "metadata": {
        "id": "NJR_N6LJLbpb"
      },
      "source": [
        "class MnistModel(nn.Module):\n",
        "  def __init__(self):\n",
        "    super().__init__()\n",
        "    self.linear = nn.Linear(input_size,num_classes)\n",
        "\n",
        "  def forward(self,xb):\n",
        "    xb = xb.reshape(-1,input_size)\n",
        "    out = self.linear(xb)\n",
        "    return out\n",
        "\n",
        "model = MnistModel()"
      ],
      "execution_count": 19,
      "outputs": []
    },
    {
      "cell_type": "markdown",
      "metadata": {
        "id": "0Kw0vhZwQN0s"
      },
      "source": [
        "Inside the `__init__` constructor method, we instantiate the weights and biases using `nn.Linear`. And inside the `forward` method, which is invoked when we pass a batch of inputs to the model, we flatten the input tensor and pass it into `self.linear`.\n",
        "\n",
        "`xb.reshape(-1, input_size)` indicates to PyTorch that we want a *view* of the `xb` tensor with two dimensions. The length along the 2nd dimension is 28*28 (i.e., 784). One argument to `.reshape` can be set to `-1` (in this case, the first dimension) to let PyTorch figure it out automatically based on the shape of the original tensor.\n",
        "\n",
        "Note that the model no longer has `.weight` and `.bias` attributes (as they are now inside the `.linear` attribute), but it does have a `.parameters` method that returns a list containing the weights and bias."
      ]
    },
    {
      "cell_type": "code",
      "metadata": {
        "colab": {
          "base_uri": "https://localhost:8080/"
        },
        "id": "wixYnnq1QM7f",
        "outputId": "e528c3b9-b1ce-4ded-e391-b778e4b5a85b"
      },
      "source": [
        "print(model.linear)\n",
        "print('\\n')\n",
        "print(f'Weights: {model.linear.weight}, Size: {model.linear.weight.shape}\\n')\n",
        "print(f'Biases: {model.linear.bias}, Size: {model.linear.bias.shape}\\n')\n",
        "list(model.parameters())"
      ],
      "execution_count": 20,
      "outputs": [
        {
          "output_type": "stream",
          "text": [
            "Linear(in_features=784, out_features=10, bias=True)\n",
            "\n",
            "\n",
            "Weights: Parameter containing:\n",
            "tensor([[ 0.0206,  0.0291, -0.0148,  ..., -0.0271,  0.0177, -0.0310],\n",
            "        [-0.0063, -0.0327, -0.0147,  ...,  0.0086,  0.0027,  0.0295],\n",
            "        [ 0.0009,  0.0186, -0.0167,  ..., -0.0152, -0.0267,  0.0039],\n",
            "        ...,\n",
            "        [ 0.0064, -0.0264, -0.0129,  ..., -0.0105,  0.0055,  0.0282],\n",
            "        [-0.0333, -0.0237, -0.0112,  ..., -0.0124, -0.0302,  0.0266],\n",
            "        [ 0.0052, -0.0047, -0.0289,  ...,  0.0075,  0.0053, -0.0345]],\n",
            "       requires_grad=True), Size: torch.Size([10, 784])\n",
            "\n",
            "Biases: Parameter containing:\n",
            "tensor([ 0.0172,  0.0068, -0.0045, -0.0299, -0.0233, -0.0015, -0.0045, -0.0080,\n",
            "        -0.0347, -0.0191], requires_grad=True), Size: torch.Size([10])\n",
            "\n"
          ],
          "name": "stdout"
        },
        {
          "output_type": "execute_result",
          "data": {
            "text/plain": [
              "[Parameter containing:\n",
              " tensor([[ 0.0206,  0.0291, -0.0148,  ..., -0.0271,  0.0177, -0.0310],\n",
              "         [-0.0063, -0.0327, -0.0147,  ...,  0.0086,  0.0027,  0.0295],\n",
              "         [ 0.0009,  0.0186, -0.0167,  ..., -0.0152, -0.0267,  0.0039],\n",
              "         ...,\n",
              "         [ 0.0064, -0.0264, -0.0129,  ..., -0.0105,  0.0055,  0.0282],\n",
              "         [-0.0333, -0.0237, -0.0112,  ..., -0.0124, -0.0302,  0.0266],\n",
              "         [ 0.0052, -0.0047, -0.0289,  ...,  0.0075,  0.0053, -0.0345]],\n",
              "        requires_grad=True), Parameter containing:\n",
              " tensor([ 0.0172,  0.0068, -0.0045, -0.0299, -0.0233, -0.0015, -0.0045, -0.0080,\n",
              "         -0.0347, -0.0191], requires_grad=True)]"
            ]
          },
          "metadata": {
            "tags": []
          },
          "execution_count": 20
        }
      ]
    },
    {
      "cell_type": "code",
      "metadata": {
        "colab": {
          "base_uri": "https://localhost:8080/"
        },
        "id": "SYYonG3RQ5Nb",
        "outputId": "10f22125-430d-4207-c881-2c69e02a6e51"
      },
      "source": [
        "for images, labels in train_loader:\n",
        "    print(images.shape)\n",
        "    outputs = model(images)\n",
        "    break\n",
        "\n",
        "print('outputs.shape : ', outputs.shape)\n",
        "print('Sample outputs :\\n', outputs[:5].data)"
      ],
      "execution_count": 21,
      "outputs": [
        {
          "output_type": "stream",
          "text": [
            "torch.Size([128, 1, 28, 28])\n",
            "outputs.shape :  torch.Size([128, 10])\n",
            "Sample outputs :\n",
            " tensor([[ 0.0296,  0.2195,  0.2520,  0.4365, -0.1027, -0.0537,  0.0031,  0.0519,\n",
            "         -0.1447,  0.2438],\n",
            "        [-0.0141, -0.4189, -0.2236, -0.1855, -0.2497,  0.1151,  0.4496,  0.2857,\n",
            "         -0.3106,  0.1856],\n",
            "        [ 0.1714,  0.3870,  0.2080,  0.1459, -0.1831, -0.2031, -0.0700, -0.0031,\n",
            "         -0.1093, -0.0517],\n",
            "        [ 0.0144, -0.0437,  0.0302,  0.0041, -0.2208, -0.0715,  0.0880,  0.3751,\n",
            "         -0.2200, -0.1879],\n",
            "        [ 0.3019,  0.5956,  0.3850,  0.0759,  0.1392,  0.0192,  0.1328,  0.2057,\n",
            "         -0.1969, -0.3266]])\n"
          ],
          "name": "stdout"
        }
      ]
    },
    {
      "cell_type": "markdown",
      "metadata": {
        "id": "5mXxodjJR3E2"
      },
      "source": [
        "For each of the 128 input images, we get 10 outputs, one for each class. But we woulod like to represent outputs as probabilities, which is not the case now, as seen above.\n",
        "\n",
        "To convert output rows to probabilities, we use the [softmax function](https://towardsdatascience.com/softmax-activation-function-how-it-actually-works-d292d335bd78)"
      ]
    },
    {
      "cell_type": "markdown",
      "metadata": {
        "id": "s0JoWq4GSnWk"
      },
      "source": [
        "While it's easy to implement the softmax function, we'll use the implementation that's provided within PyTorch because it works well with multidimensional tensors."
      ]
    },
    {
      "cell_type": "code",
      "metadata": {
        "id": "zUeMNAWURyLB"
      },
      "source": [
        "import torch.nn.functional as F"
      ],
      "execution_count": 22,
      "outputs": []
    },
    {
      "cell_type": "markdown",
      "metadata": {
        "id": "6cLiF2LPSwk7"
      },
      "source": [
        "The softmax function is included in the `torch.nn.functional` package and requires us to specify a dimension along which the function should be applied."
      ]
    },
    {
      "cell_type": "code",
      "metadata": {
        "colab": {
          "base_uri": "https://localhost:8080/"
        },
        "id": "mmUZU8ZqSvEm",
        "outputId": "a812a621-5a41-4429-993c-ea3d22df36cd"
      },
      "source": [
        "# Apply softmax for each output row\n",
        "probs = F.softmax(outputs,dim=1)\n",
        "\n",
        "print(\"Sample Probabilities:\\n\", probs[0:3].data)\n",
        "print(\"Sum: \", torch.sum(probs[0]).item())"
      ],
      "execution_count": 23,
      "outputs": [
        {
          "output_type": "stream",
          "text": [
            "Sample Probabilities:\n",
            " tensor([[0.0923, 0.1116, 0.1153, 0.1387, 0.0809, 0.0849, 0.0899, 0.0944, 0.0776,\n",
            "         0.1144],\n",
            "        [0.0985, 0.0657, 0.0799, 0.0830, 0.0778, 0.1121, 0.1566, 0.1329, 0.0732,\n",
            "         0.1203],\n",
            "        [0.1133, 0.1406, 0.1176, 0.1105, 0.0795, 0.0779, 0.0890, 0.0952, 0.0856,\n",
            "         0.0907]])\n",
            "Sum:  1.0\n"
          ],
          "name": "stdout"
        }
      ]
    },
    {
      "cell_type": "markdown",
      "metadata": {
        "id": "wUw6GP5yTOLW"
      },
      "source": [
        "We can determine the predicted label for each image by simply choosing the index of the element with the highest probability in each output row. We can do this using `torch.max`, which returns each rows' largest element and the corresponding index."
      ]
    },
    {
      "cell_type": "code",
      "metadata": {
        "colab": {
          "base_uri": "https://localhost:8080/"
        },
        "id": "mcxkMtyLTIVB",
        "outputId": "0ca46c6e-fa76-406d-d20c-9e4eeb612ee0"
      },
      "source": [
        "max_probs, preds = torch.max(probs, dim=1)\n",
        "print(preds)\n",
        "print(max_probs)"
      ],
      "execution_count": 24,
      "outputs": [
        {
          "output_type": "stream",
          "text": [
            "tensor([3, 6, 1, 7, 1, 0, 1, 1, 0, 1, 2, 6, 7, 1, 1, 1, 7, 2, 6, 7, 6, 7, 6, 6,\n",
            "        7, 0, 7, 2, 2, 7, 3, 6, 2, 1, 6, 7, 0, 6, 1, 1, 6, 1, 3, 9, 1, 1, 1, 1,\n",
            "        7, 2, 6, 0, 2, 2, 7, 6, 0, 2, 1, 0, 1, 1, 3, 1, 1, 1, 1, 7, 3, 0, 1, 1,\n",
            "        0, 6, 7, 3, 0, 7, 6, 1, 2, 7, 6, 6, 1, 2, 1, 7, 1, 2, 6, 1, 2, 1, 1, 1,\n",
            "        6, 6, 1, 3, 1, 6, 5, 7, 1, 6, 1, 1, 7, 6, 1, 6, 2, 6, 6, 6, 1, 0, 6, 0,\n",
            "        6, 2, 3, 6, 6, 1, 6, 6])\n",
            "tensor([0.1387, 0.1566, 0.1406, 0.1467, 0.1538, 0.1269, 0.1386, 0.1481, 0.1201,\n",
            "        0.1400, 0.1484, 0.1502, 0.1222, 0.1422, 0.1333, 0.1350, 0.1266, 0.1298,\n",
            "        0.1351, 0.1243, 0.1394, 0.1355, 0.1478, 0.1356, 0.1530, 0.1406, 0.1374,\n",
            "        0.1320, 0.1595, 0.1439, 0.1261, 0.1493, 0.1255, 0.1185, 0.1324, 0.1267,\n",
            "        0.1247, 0.1235, 0.1368, 0.1329, 0.1536, 0.1221, 0.1170, 0.1095, 0.1314,\n",
            "        0.1173, 0.1405, 0.1289, 0.1322, 0.1340, 0.1421, 0.1239, 0.1371, 0.1521,\n",
            "        0.1259, 0.1221, 0.1286, 0.1337, 0.1303, 0.1213, 0.1433, 0.1407, 0.1223,\n",
            "        0.1209, 0.1213, 0.1607, 0.1392, 0.1355, 0.1365, 0.1520, 0.1433, 0.1620,\n",
            "        0.1344, 0.1747, 0.1139, 0.1165, 0.1357, 0.1265, 0.1278, 0.1407, 0.1469,\n",
            "        0.1331, 0.1165, 0.1334, 0.1343, 0.1550, 0.1227, 0.1426, 0.1217, 0.1521,\n",
            "        0.1456, 0.1625, 0.1146, 0.1383, 0.1539, 0.1250, 0.1292, 0.1403, 0.1273,\n",
            "        0.1130, 0.1276, 0.1453, 0.1156, 0.1460, 0.1524, 0.1264, 0.1365, 0.1334,\n",
            "        0.1303, 0.1254, 0.1218, 0.1337, 0.1290, 0.1213, 0.1235, 0.1397, 0.1394,\n",
            "        0.1247, 0.1360, 0.1254, 0.1262, 0.1159, 0.1261, 0.1337, 0.1358, 0.1241,\n",
            "        0.1432, 0.1365], grad_fn=<MaxBackward0>)\n"
          ],
          "name": "stdout"
        }
      ]
    },
    {
      "cell_type": "code",
      "metadata": {
        "colab": {
          "base_uri": "https://localhost:8080/"
        },
        "id": "uSXvqFfXTv7x",
        "outputId": "313cd560-5070-48ee-a91a-c46398fa92a2"
      },
      "source": [
        "labels"
      ],
      "execution_count": 25,
      "outputs": [
        {
          "output_type": "execute_result",
          "data": {
            "text/plain": [
              "tensor([5, 7, 6, 2, 8, 1, 3, 2, 1, 1, 2, 7, 5, 3, 1, 3, 5, 0, 7, 3, 7, 5, 6, 6,\n",
              "        0, 1, 5, 0, 2, 3, 4, 9, 1, 0, 5, 0, 5, 7, 6, 8, 8, 1, 5, 8, 6, 1, 8, 6,\n",
              "        5, 0, 7, 9, 8, 6, 0, 4, 3, 1, 1, 9, 1, 1, 5, 5, 1, 2, 5, 3, 9, 4, 1, 8,\n",
              "        2, 4, 3, 9, 2, 3, 3, 2, 6, 5, 9, 0, 8, 2, 1, 0, 3, 6, 7, 0, 0, 1, 0, 3,\n",
              "        4, 8, 1, 4, 2, 7, 7, 5, 3, 9, 1, 3, 3, 9, 8, 6, 8, 8, 9, 9, 5, 7, 4, 7,\n",
              "        6, 9, 5, 3, 7, 4, 9, 6])"
            ]
          },
          "metadata": {
            "tags": []
          },
          "execution_count": 25
        }
      ]
    },
    {
      "cell_type": "markdown",
      "metadata": {
        "id": "Uml0S1b2Tb7N"
      },
      "source": [
        "Compare these with the actual labels. They are obviously very different because we have just randomly initialized weights and biases. We need to now train the model i.e., adjust the parameters to make better predictions."
      ]
    },
    {
      "cell_type": "markdown",
      "metadata": {
        "id": "SWdqwZAgT2Wz"
      },
      "source": [
        "## Evaluation Metric and Loss Function\n",
        "Just as with linear regression, we need a way to evaluate how well our model is performing. A natural way to do this would be to find the percentage of labels that were predicted correctly, i.e,. the **accuracy** of the predictions. "
      ]
    },
    {
      "cell_type": "code",
      "metadata": {
        "colab": {
          "base_uri": "https://localhost:8080/"
        },
        "id": "BqQp0VDQTWh6",
        "outputId": "247dbe3e-c783-417a-a304-4f47912f3c50"
      },
      "source": [
        "torch.sum(preds==labels)"
      ],
      "execution_count": 26,
      "outputs": [
        {
          "output_type": "execute_result",
          "data": {
            "text/plain": [
              "tensor(21)"
            ]
          },
          "metadata": {
            "tags": []
          },
          "execution_count": 26
        }
      ]
    },
    {
      "cell_type": "markdown",
      "metadata": {
        "id": "Yk5MJiI1UH9j"
      },
      "source": [
        "This means that 21 (will change for every run) out of 128 labels are predicted correctly. So we can define accuracy as follows"
      ]
    },
    {
      "cell_type": "code",
      "metadata": {
        "colab": {
          "base_uri": "https://localhost:8080/"
        },
        "id": "34ORolxSUFFz",
        "outputId": "1fdef8ec-3dbf-4929-e9f7-97d30d7b3fe0"
      },
      "source": [
        "def accuracy(outputs,labels):\n",
        "  _,preds = torch.max(outputs,dim=1)\n",
        "  return torch.tensor(torch.sum(preds==labels).item()/len(preds))\n",
        "\n",
        "accuracy(outputs,labels)"
      ],
      "execution_count": 27,
      "outputs": [
        {
          "output_type": "execute_result",
          "data": {
            "text/plain": [
              "tensor(0.1641)"
            ]
          },
          "metadata": {
            "tags": []
          },
          "execution_count": 27
        }
      ]
    },
    {
      "cell_type": "markdown",
      "metadata": {
        "id": "aW-arjcJU4Y0"
      },
      "source": [
        "The `==` operator performs an element-wise comparison of two tensors with the same shape and returns a tensor of the same shape, containing `True` for unequal elements and `False` for equal elements. Passing the result to `torch.sum` returns the number of labels that were predicted correctly. Finally, we divide by the total number of images to get the accuracy. "
      ]
    },
    {
      "cell_type": "markdown",
      "metadata": {
        "id": "mFc_nPRBVHry"
      },
      "source": [
        "We can't use accuracy as a loss function for optimizing our model using gradient descent for the following reasons:\n",
        "\n",
        "1. It's not a differentiable function. `torch.max` and `==` are both non-continuous and non-differentiable operations, so we can't use the accuracy for computing gradients w.r.t the weights and biases.\n",
        "\n",
        "2. It doesn't take into account the actual probabilities predicted by the model, so it can't provide sufficient feedback for incremental improvements. \n",
        "\n",
        "For these reasons, accuracy is often used as an **evaluation metric** for classification, but **not** as a loss function. \n",
        "\n",
        "A commonly used loss function for classification problems is the **cross-entropy**, which has the following formula:\n",
        "\n",
        "![cross-entropy](https://i.imgur.com/VDRDl1D.png)\n",
        "\n",
        "While it looks complicated, it's actually quite simple:\n",
        "\n",
        "* For each output row, pick the predicted probability for the correct label. E.g., if the predicted probabilities for an image are `[0.1, 0.3, 0.2, ...]` and the correct label is `1`, we pick the corresponding element `0.3` and ignore the rest.\n",
        "\n",
        "* Then, take the **log** of the picked probability. If the probability is high, i.e., close to 1, then its logarithm is a very small negative value, close to 0. And if the probability is low (close to 0), then the logarithm is a very large negative value. We also multiply the result by -1, which results is a large postive value of the loss for poor predictions.\n",
        "\n",
        "* Finally, take the average of the cross entropy across all the output rows to get the overall loss for a batch of data.\n",
        "\n",
        "Cross-entropy is a continuous and differentiable function. It also provides useful feedback for incremental improvements in the model (a slightly higher probability for the correct label leads to a lower loss). These two factors make cross-entropy a better choice for the loss function.\n",
        "\n",
        "PyTorch provides an efficient and tensor-friendly implementation of cross-entropy as part of the `torch.nn.functional` package. Moreover, it also performs softmax internally, so we can directly pass in the model's outputs without converting them into probabilities."
      ]
    },
    {
      "cell_type": "code",
      "metadata": {
        "id": "MtRj76EOUg9I"
      },
      "source": [
        "loss_fn = F.cross_entropy"
      ],
      "execution_count": 28,
      "outputs": []
    },
    {
      "cell_type": "code",
      "metadata": {
        "colab": {
          "base_uri": "https://localhost:8080/"
        },
        "id": "MTY33oROV30l",
        "outputId": "586a933e-301f-4d9b-c511-6efe723d28e7"
      },
      "source": [
        "loss = loss_fn(outputs,labels)\n",
        "loss"
      ],
      "execution_count": 29,
      "outputs": [
        {
          "output_type": "execute_result",
          "data": {
            "text/plain": [
              "tensor(2.2809, grad_fn=<NllLossBackward>)"
            ]
          },
          "metadata": {
            "tags": []
          },
          "execution_count": 29
        }
      ]
    },
    {
      "cell_type": "markdown",
      "metadata": {
        "id": "xOf4fs1ZWf9D"
      },
      "source": [
        "Way to interpret the resulting number e.g. `2.3019` is look at `e^-2.3019` which is around `0.1` as the predicted probability of the correct label, on average. **Lower the loss, better the model.**"
      ]
    },
    {
      "cell_type": "markdown",
      "metadata": {
        "id": "HgCnZuYpW0w0"
      },
      "source": [
        "## Training the model\n",
        "\n",
        "The training process is identical to linear regression, with the addition of a validation phase, to evaluate the model in each epoch. The pseudocode is as follows:\n",
        "\n",
        "```\n",
        "for epoch in range(num_epochs):\n",
        "    # Training phase\n",
        "    for batch in train_loader:\n",
        "        # Generate predictions\n",
        "        # Calculate loss\n",
        "        # Compute gradients\n",
        "        # Update weights\n",
        "        # Reset gradients\n",
        "    \n",
        "    # Validation phase\n",
        "    for batch in val_loader:\n",
        "        # Generate predictions\n",
        "        # Calculate loss\n",
        "        # Calculate metrics (accuracy etc.)\n",
        "    # Calculate average validation loss & metrics\n",
        "```\n",
        "\n",
        "Some parts of the training loop are specific to the specific problem we're solving (e.g. loss function, metrics etc.), whereas others are generic and can be applied to any deep learning problem. \n",
        "\n"
      ]
    },
    {
      "cell_type": "markdown",
      "metadata": {
        "id": "UUZLCs_fJLX2"
      },
      "source": [
        "We'll include the problem-independent parts within a function called `fit`, which will be used to train the model. The problem-specific parts will be implemented by adding new methods to the `nn.Module` class."
      ]
    },
    {
      "cell_type": "code",
      "metadata": {
        "id": "dgmAnnZcfK-m"
      },
      "source": [
        "def fit(epochs, lr, model, train_loader, val_loader, opt_func=torch.optim.SGD):\n",
        "    optimizer = opt_func(model.parameters(), lr)\n",
        "    history = [] # for recording epoch-wise results\n",
        "    \n",
        "    for epoch in range(epochs):\n",
        "        \n",
        "        # Training Phase \n",
        "        for batch in train_loader:\n",
        "            loss = model.training_step(batch)\n",
        "            loss.backward()\n",
        "            optimizer.step()\n",
        "            optimizer.zero_grad()\n",
        "        \n",
        "        # Validation phase\n",
        "        result = evaluate(model, val_loader)\n",
        "        model.epoch_end(epoch, result)\n",
        "        history.append(result)\n",
        "\n",
        "    return history"
      ],
      "execution_count": 30,
      "outputs": []
    },
    {
      "cell_type": "markdown",
      "metadata": {
        "id": "G3qfljOGJbms"
      },
      "source": [
        "The `fit` function records the validation loss and metric from each epoch. It returns a history of the training, useful for debugging & visualization.\n",
        "\n",
        "Configurations like batch size, learning rate, etc. (hyperparameters), need to be picked in advance while training ML models. Choosing the right hyperparameters is critical for training a reasonably accurate model within a reasonable amount of time.\n",
        "\n",
        "Let's define the `evaluate` function, used in the validation phase of `fit`."
      ]
    },
    {
      "cell_type": "code",
      "metadata": {
        "id": "w6iwNoTzJYEa"
      },
      "source": [
        "def evaluate(model, val_loader):\n",
        "    outputs = [model.validation_step(batch) for batch in val_loader]\n",
        "    return model.validation_epoch_end(outputs)"
      ],
      "execution_count": 31,
      "outputs": []
    },
    {
      "cell_type": "markdown",
      "metadata": {
        "id": "UPVTeO7sJ62N"
      },
      "source": [
        "\n",
        "Finally, let's redefine the `MnistModel` class to include additional methods `training_step`, `validation_step`, `validation_epoch_end`, and `epoch_end` used by `fit` and `evaluate`."
      ]
    },
    {
      "cell_type": "code",
      "metadata": {
        "id": "oAqFb1OPJ6CU"
      },
      "source": [
        "class MnistModel(nn.Module):\n",
        "    def __init__(self):\n",
        "        super().__init__()\n",
        "        self.linear = nn.Linear(input_size, num_classes)\n",
        "        \n",
        "    def forward(self, xb):\n",
        "        xb = xb.reshape(-1, 784)\n",
        "        out = self.linear(xb)\n",
        "        return out\n",
        "    \n",
        "    def training_step(self, batch):\n",
        "        images, labels = batch \n",
        "        out = self(images)                  # Generate predictions\n",
        "        loss = F.cross_entropy(out, labels) # Calculate loss\n",
        "        return loss\n",
        "    \n",
        "    def validation_step(self, batch):\n",
        "        images, labels = batch \n",
        "        out = self(images)                    # Generate predictions\n",
        "        loss = F.cross_entropy(out, labels)   # Calculate loss\n",
        "        acc = accuracy(out, labels)           # Calculate accuracy\n",
        "        return {'val_loss': loss, 'val_acc': acc}\n",
        "        \n",
        "    def validation_epoch_end(self, outputs):\n",
        "        batch_losses = [x['val_loss'] for x in outputs]\n",
        "        epoch_loss = torch.stack(batch_losses).mean()   # Combine losses\n",
        "        batch_accs = [x['val_acc'] for x in outputs]\n",
        "        epoch_acc = torch.stack(batch_accs).mean()      # Combine accuracies\n",
        "        return {'val_loss': epoch_loss.item(), 'val_acc': epoch_acc.item()}\n",
        "    \n",
        "    def epoch_end(self, epoch, result):\n",
        "        print(\"Epoch [{}], val_loss: {:.4f}, val_acc: {:.4f}\".format(epoch, result['val_loss'], result['val_acc']))\n",
        "    \n",
        "model = MnistModel()"
      ],
      "execution_count": 32,
      "outputs": []
    },
    {
      "cell_type": "markdown",
      "metadata": {
        "id": "1Pqt_qMSKkuM"
      },
      "source": [
        "Before training the model, let's see how the model performs on the validation set with the initial set of randomly initialized weights & biases.\n"
      ]
    },
    {
      "cell_type": "code",
      "metadata": {
        "colab": {
          "base_uri": "https://localhost:8080/"
        },
        "id": "Ev5Evq5tKBr5",
        "outputId": "8775f8e1-39ad-4595-97ec-0416c249199c"
      },
      "source": [
        "result0 = evaluate(model, val_loader)\n",
        "result0"
      ],
      "execution_count": 33,
      "outputs": [
        {
          "output_type": "execute_result",
          "data": {
            "text/plain": [
              "{'val_acc': 0.05488142743706703, 'val_loss': 2.3700780868530273}"
            ]
          },
          "metadata": {
            "tags": []
          },
          "execution_count": 33
        }
      ]
    },
    {
      "cell_type": "markdown",
      "metadata": {
        "id": "shsZpQ67KuPD"
      },
      "source": [
        "The initial accuracy is around 5.5% (changes every run), which one might expect from a randomly initialized model.\n",
        "\n",
        "Now, Let's train for five epochs and look at the results."
      ]
    },
    {
      "cell_type": "code",
      "metadata": {
        "colab": {
          "base_uri": "https://localhost:8080/"
        },
        "id": "Mfe-zWmtKo2J",
        "outputId": "e4880602-d00a-4512-fa6a-1ba899d689d9"
      },
      "source": [
        "history1 = fit(5, 0.001, model, train_loader, val_loader)"
      ],
      "execution_count": 34,
      "outputs": [
        {
          "output_type": "stream",
          "text": [
            "Epoch [0], val_loss: 1.9839, val_acc: 0.6227\n",
            "Epoch [1], val_loss: 1.7137, val_acc: 0.7160\n",
            "Epoch [2], val_loss: 1.5117, val_acc: 0.7517\n",
            "Epoch [3], val_loss: 1.3584, val_acc: 0.7732\n",
            "Epoch [4], val_loss: 1.2398, val_acc: 0.7919\n"
          ],
          "name": "stdout"
        }
      ]
    },
    {
      "cell_type": "markdown",
      "metadata": {
        "id": "eRp4kasULFX_"
      },
      "source": [
        "With just 5 epochs of training, the model has reached an accuracy of around 80% on the validation set. We can improve this by training for a few more epochs."
      ]
    },
    {
      "cell_type": "code",
      "metadata": {
        "colab": {
          "base_uri": "https://localhost:8080/"
        },
        "id": "sNVeAn4IK6I0",
        "outputId": "4871f65a-a590-425a-865e-bc8af93a8371"
      },
      "source": [
        "history2 = fit(5, 0.001, model, train_loader, val_loader)"
      ],
      "execution_count": 35,
      "outputs": [
        {
          "output_type": "stream",
          "text": [
            "Epoch [0], val_loss: 1.1462, val_acc: 0.8018\n",
            "Epoch [1], val_loss: 1.0708, val_acc: 0.8122\n",
            "Epoch [2], val_loss: 1.0091, val_acc: 0.8186\n",
            "Epoch [3], val_loss: 0.9575, val_acc: 0.8237\n",
            "Epoch [4], val_loss: 0.9139, val_acc: 0.8277\n"
          ],
          "name": "stdout"
        }
      ]
    },
    {
      "cell_type": "code",
      "metadata": {
        "colab": {
          "base_uri": "https://localhost:8080/"
        },
        "id": "XQr3eSA8LRko",
        "outputId": "af89e73d-27a0-44e2-fc61-774bb7c7617b"
      },
      "source": [
        "history3 = fit(5, 0.001, model, train_loader, val_loader)"
      ],
      "execution_count": 36,
      "outputs": [
        {
          "output_type": "stream",
          "text": [
            "Epoch [0], val_loss: 0.8765, val_acc: 0.8314\n",
            "Epoch [1], val_loss: 0.8441, val_acc: 0.8339\n",
            "Epoch [2], val_loss: 0.8157, val_acc: 0.8369\n",
            "Epoch [3], val_loss: 0.7907, val_acc: 0.8392\n",
            "Epoch [4], val_loss: 0.7684, val_acc: 0.8416\n"
          ],
          "name": "stdout"
        }
      ]
    },
    {
      "cell_type": "code",
      "metadata": {
        "colab": {
          "base_uri": "https://localhost:8080/"
        },
        "id": "RBYKhKnwLZpT",
        "outputId": "fc98a86e-da44-4fc2-c2ec-253a08151713"
      },
      "source": [
        "history4 = fit(5, 0.001, model, train_loader, val_loader)"
      ],
      "execution_count": 37,
      "outputs": [
        {
          "output_type": "stream",
          "text": [
            "Epoch [0], val_loss: 0.7483, val_acc: 0.8433\n",
            "Epoch [1], val_loss: 0.7302, val_acc: 0.8442\n",
            "Epoch [2], val_loss: 0.7139, val_acc: 0.8459\n",
            "Epoch [3], val_loss: 0.6990, val_acc: 0.8472\n",
            "Epoch [4], val_loss: 0.6853, val_acc: 0.8492\n"
          ],
          "name": "stdout"
        }
      ]
    },
    {
      "cell_type": "markdown",
      "metadata": {
        "id": "BYt-XVYRLqDU"
      },
      "source": [
        "While the accuracy does continue to increase as we train for more epochs, the improvements get smaller with every epoch. "
      ]
    },
    {
      "cell_type": "code",
      "metadata": {
        "colab": {
          "base_uri": "https://localhost:8080/",
          "height": 295
        },
        "id": "izaJatb4Lg-E",
        "outputId": "e13f04e9-f08f-47a1-d47b-20022fb459cc"
      },
      "source": [
        "history = [result0] + history1 + history2 + history3 + history4\n",
        "accuracies = [result['val_acc'] for result in history]\n",
        "plt.plot(accuracies, '-x')\n",
        "plt.xlabel('Epoch')\n",
        "plt.ylabel('Accuracy')\n",
        "plt.title('Accuracy vs. No. of epochs');"
      ],
      "execution_count": 39,
      "outputs": [
        {
          "output_type": "display_data",
          "data": {
            "image/png": "[encoded data removed]",
            "text/plain": [
              "<Figure size 432x288 with 1 Axes>"
            ]
          },
          "metadata": {
            "tags": [],
            "needs_background": "light"
          }
        }
      ]
    },
    {
      "cell_type": "markdown",
      "metadata": {
        "id": "MMjHyrl5L2Rv"
      },
      "source": [
        "It's quite clear from the above plot that the model probably won't cross the 90% even after training for a long time. \n",
        "\n",
        "One possible reason for this is that the learning rate might be too high. The model's parameters may be bouncing around the optimal set of parameters for the lowest loss. You can try reducing the learning rate and training for a few more epochs to see if it helps.\n",
        "\n",
        "The more likely reason that **the model just isn't powerful enough**. Our hypothesis was that, we assumed the output (in this case the class probabilities) is a **linear function** of the input (pixel intensities), obtained by perfoming a matrix multiplication with the weights matrix and adding the bias. This is a fairly weak assumption, as there may not be a linear relationship between the pixel intensities in an image and the digit it represents. While it works reasonably well for a simple dataset like MNIST (getting us to 85% accuracy), we need more sophisticated models that can capture non-linear relationships between image pixels and labels for complex tasks like recognizing everyday objects, animals etc. "
      ]
    },
    {
      "cell_type": "markdown",
      "metadata": {
        "id": "H45P7v9AMckg"
      },
      "source": [
        "## Testing with individual images"
      ]
    },
    {
      "cell_type": "code",
      "metadata": {
        "id": "4cdMc8XhLyLt"
      },
      "source": [
        "# Define test dataset\n",
        "test_dataset = MNIST(root='data/', \n",
        "                     train=False,\n",
        "                     transform=transforms.ToTensor())"
      ],
      "execution_count": 40,
      "outputs": []
    },
    {
      "cell_type": "markdown",
      "metadata": {
        "id": "WntEyCB1MjTy"
      },
      "source": [
        "Here is a sample image from the test dataset"
      ]
    },
    {
      "cell_type": "code",
      "metadata": {
        "colab": {
          "base_uri": "https://localhost:8080/",
          "height": 298
        },
        "id": "hhcqIZugMhur",
        "outputId": "34b9e2ac-5bb6-42e9-b139-2bc6c7acf2ae"
      },
      "source": [
        "img, label = test_dataset[0]\n",
        "plt.imshow(img[0], cmap='gray')\n",
        "print('Shape:', img.shape)\n",
        "print('Label:', label)"
      ],
      "execution_count": 41,
      "outputs": [
        {
          "output_type": "stream",
          "text": [
            "Shape: torch.Size([1, 28, 28])\n",
            "Label: 7\n"
          ],
          "name": "stdout"
        },
        {
          "output_type": "display_data",
          "data": {
            "image/png": "[encoded data removed]",
            "text/plain": [
              "<Figure size 432x288 with 1 Axes>"
            ]
          },
          "metadata": {
            "tags": [],
            "needs_background": "light"
          }
        }
      ]
    },
    {
      "cell_type": "markdown",
      "metadata": {
        "id": "nmTW6mgvMpxC"
      },
      "source": [
        "Let's define a helper function `predict_image`, which returns the predicted label for a single image tensor."
      ]
    },
    {
      "cell_type": "code",
      "metadata": {
        "id": "NeXl23zUMniZ"
      },
      "source": [
        "def predict_image(img, model):\n",
        "    xb = img.unsqueeze(0)\n",
        "    yb = model(xb)\n",
        "    _, preds = torch.max(yb, dim=1)\n",
        "    return preds[0].item()"
      ],
      "execution_count": 42,
      "outputs": []
    },
    {
      "cell_type": "markdown",
      "metadata": {
        "id": "7wj1SJksMu2w"
      },
      "source": [
        "`img.unsqueeze` simply adds another dimension at the begining of the 1x28x28 tensor, making it a 1x1x28x28 tensor, which the model views as a batch containing a single image."
      ]
    },
    {
      "cell_type": "code",
      "metadata": {
        "colab": {
          "base_uri": "https://localhost:8080/",
          "height": 282
        },
        "id": "g5A6PvYfM3Qv",
        "outputId": "75391a8d-cce0-4e22-ab3b-c122eac65e10"
      },
      "source": [
        "img, label = test_dataset[0]\n",
        "plt.imshow(img[0], cmap='gray')\n",
        "print('Label:', label, ', Predicted:', predict_image(img, model))"
      ],
      "execution_count": 43,
      "outputs": [
        {
          "output_type": "stream",
          "text": [
            "Label: 7 , Predicted: 7\n"
          ],
          "name": "stdout"
        },
        {
          "output_type": "display_data",
          "data": {
            "image/png": "[encoded data removed]",
            "text/plain": [
              "<Figure size 432x288 with 1 Axes>"
            ]
          },
          "metadata": {
            "tags": [],
            "needs_background": "light"
          }
        }
      ]
    },
    {
      "cell_type": "code",
      "metadata": {
        "colab": {
          "base_uri": "https://localhost:8080/",
          "height": 282
        },
        "id": "MAVFHHe8M5EJ",
        "outputId": "4a702342-11f7-4548-b019-ef1e676bb242"
      },
      "source": [
        "img, label = test_dataset[10]\n",
        "plt.imshow(img[0], cmap='gray')\n",
        "print('Label:', label, ', Predicted:', predict_image(img, model))"
      ],
      "execution_count": 44,
      "outputs": [
        {
          "output_type": "stream",
          "text": [
            "Label: 0 , Predicted: 0\n"
          ],
          "name": "stdout"
        },
        {
          "output_type": "display_data",
          "data": {
            "image/png": "[encoded data removed]",
            "text/plain": [
              "<Figure size 432x288 with 1 Axes>"
            ]
          },
          "metadata": {
            "tags": [],
            "needs_background": "light"
          }
        }
      ]
    },
    {
      "cell_type": "code",
      "metadata": {
        "colab": {
          "base_uri": "https://localhost:8080/",
          "height": 282
        },
        "id": "E-1p4AkxM6_a",
        "outputId": "402d3e93-437e-4f49-d639-8e2de28ac0d3"
      },
      "source": [
        "img, label = test_dataset[193]\n",
        "plt.imshow(img[0], cmap='gray')\n",
        "print('Label:', label, ', Predicted:', predict_image(img, model))"
      ],
      "execution_count": 45,
      "outputs": [
        {
          "output_type": "stream",
          "text": [
            "Label: 9 , Predicted: 9\n"
          ],
          "name": "stdout"
        },
        {
          "output_type": "display_data",
          "data": {
            "image/png": "[encoded data removed]",
            "text/plain": [
              "<Figure size 432x288 with 1 Axes>"
            ]
          },
          "metadata": {
            "tags": [],
            "needs_background": "light"
          }
        }
      ]
    },
    {
      "cell_type": "code",
      "metadata": {
        "colab": {
          "base_uri": "https://localhost:8080/",
          "height": 282
        },
        "id": "LhpZimGFM868",
        "outputId": "60fc8870-bbd4-43e5-c8c3-6ebbbd8f69ac"
      },
      "source": [
        "img, label = test_dataset[1839]\n",
        "plt.imshow(img[0], cmap='gray')\n",
        "print('Label:', label, ', Predicted:', predict_image(img, model))"
      ],
      "execution_count": 46,
      "outputs": [
        {
          "output_type": "stream",
          "text": [
            "Label: 2 , Predicted: 8\n"
          ],
          "name": "stdout"
        },
        {
          "output_type": "display_data",
          "data": {
            "image/png": "[encoded data removed]",
            "text/plain": [
              "<Figure size 432x288 with 1 Axes>"
            ]
          },
          "metadata": {
            "tags": [],
            "needs_background": "light"
          }
        }
      ]
    },
    {
      "cell_type": "markdown",
      "metadata": {
        "id": "2k6Rd0K6NDxE"
      },
      "source": [
        "Identifying where our model performs poorly can help us improve the model, by collecting more training data, increasing/decreasing the complexity of the model, and changing the hypeparameters.\n",
        "\n",
        "As a final step, let's look at the overall loss and accuracy of the model on the test set."
      ]
    },
    {
      "cell_type": "code",
      "metadata": {
        "colab": {
          "base_uri": "https://localhost:8080/"
        },
        "id": "foXcbxbGM_gi",
        "outputId": "1a8b7305-d293-418f-dc24-44769f08c15c"
      },
      "source": [
        "test_loader = DataLoader(test_dataset, batch_size=256)\n",
        "result = evaluate(model, test_loader)\n",
        "result"
      ],
      "execution_count": 47,
      "outputs": [
        {
          "output_type": "execute_result",
          "data": {
            "text/plain": [
              "{'val_acc': 0.8573242425918579, 'val_loss': 0.6515902280807495}"
            ]
          },
          "metadata": {
            "tags": []
          },
          "execution_count": 47
        }
      ]
    },
    {
      "cell_type": "markdown",
      "metadata": {
        "id": "j2DInBuXNOVr"
      },
      "source": [
        "## Saving and loading the model"
      ]
    },
    {
      "cell_type": "code",
      "metadata": {
        "id": "S9vwchlVNIo6"
      },
      "source": [
        "torch.save(model.state_dict(), 'mnist-logistic.pth')"
      ],
      "execution_count": 48,
      "outputs": []
    },
    {
      "cell_type": "markdown",
      "metadata": {
        "id": "mzm9bFTcNUkt"
      },
      "source": [
        "The `.state_dict` method returns an `OrderedDict` containing all the weights and bias matrices mapped to the right attributes of the model."
      ]
    },
    {
      "cell_type": "code",
      "metadata": {
        "colab": {
          "base_uri": "https://localhost:8080/"
        },
        "id": "qeUMzoG8NS4T",
        "outputId": "b97cc3a2-bacb-4c42-a27c-1a663fd1aeb2"
      },
      "source": [
        "model.state_dict()"
      ],
      "execution_count": 49,
      "outputs": [
        {
          "output_type": "execute_result",
          "data": {
            "text/plain": [
              "OrderedDict([('linear.weight',\n",
              "              tensor([[-0.0243,  0.0129,  0.0147,  ...,  0.0313,  0.0038, -0.0035],\n",
              "                      [ 0.0309,  0.0061,  0.0232,  ...,  0.0260,  0.0330,  0.0064],\n",
              "                      [-0.0323, -0.0092, -0.0100,  ...,  0.0127,  0.0013,  0.0154],\n",
              "                      ...,\n",
              "                      [-0.0079,  0.0045, -0.0171,  ..., -0.0139,  0.0288,  0.0334],\n",
              "                      [ 0.0019,  0.0287,  0.0244,  ...,  0.0080, -0.0075, -0.0024],\n",
              "                      [ 0.0321,  0.0170,  0.0285,  ...,  0.0087, -0.0005,  0.0015]])),\n",
              "             ('linear.bias',\n",
              "              tensor([-0.0252,  0.1082, -0.0500, -0.0130,  0.0080,  0.0234, -0.0098,  0.0449,\n",
              "                      -0.0571, -0.0383]))])"
            ]
          },
          "metadata": {
            "tags": []
          },
          "execution_count": 49
        }
      ]
    },
    {
      "cell_type": "markdown",
      "metadata": {
        "id": "ZKLoX6uPNioK"
      },
      "source": [
        "To load the model weights, we can instante a new object of the class `MnistModel`, and use the `.load_state_dict` method."
      ]
    },
    {
      "cell_type": "code",
      "metadata": {
        "id": "F_kjMWGYNYFT"
      },
      "source": [
        "model2 = MnistModel()"
      ],
      "execution_count": 50,
      "outputs": []
    },
    {
      "cell_type": "code",
      "metadata": {
        "colab": {
          "base_uri": "https://localhost:8080/"
        },
        "id": "KIcCwt7VNlFy",
        "outputId": "7715a882-e11b-4afc-f8b2-e2985b804367"
      },
      "source": [
        "model2.state_dict() # Randomly initialized model"
      ],
      "execution_count": 51,
      "outputs": [
        {
          "output_type": "execute_result",
          "data": {
            "text/plain": [
              "OrderedDict([('linear.weight',\n",
              "              tensor([[-0.0142,  0.0039,  0.0135,  ...,  0.0125, -0.0066,  0.0290],\n",
              "                      [ 0.0179, -0.0124, -0.0322,  ..., -0.0191,  0.0191,  0.0331],\n",
              "                      [-0.0171,  0.0241,  0.0208,  ..., -0.0165,  0.0087,  0.0250],\n",
              "                      ...,\n",
              "                      [-0.0085, -0.0182,  0.0294,  ..., -0.0011,  0.0229, -0.0132],\n",
              "                      [-0.0004,  0.0148, -0.0304,  ...,  0.0127,  0.0189,  0.0068],\n",
              "                      [ 0.0275,  0.0202,  0.0290,  ..., -0.0308,  0.0230, -0.0024]])),\n",
              "             ('linear.bias',\n",
              "              tensor([ 0.0137,  0.0033,  0.0023,  0.0317,  0.0340, -0.0027, -0.0167, -0.0328,\n",
              "                      -0.0268, -0.0341]))])"
            ]
          },
          "metadata": {
            "tags": []
          },
          "execution_count": 51
        }
      ]
    },
    {
      "cell_type": "code",
      "metadata": {
        "colab": {
          "base_uri": "https://localhost:8080/"
        },
        "id": "S1g4g2HDOfHk",
        "outputId": "76461c3a-501c-4731-930f-3f7e5eae8189"
      },
      "source": [
        "evaluate(model2, test_loader)"
      ],
      "execution_count": 52,
      "outputs": [
        {
          "output_type": "execute_result",
          "data": {
            "text/plain": [
              "{'val_acc': 0.12812499701976776, 'val_loss': 2.3194963932037354}"
            ]
          },
          "metadata": {
            "tags": []
          },
          "execution_count": 52
        }
      ]
    },
    {
      "cell_type": "markdown",
      "metadata": {
        "id": "1ifK5DEmOaQV"
      },
      "source": [
        "Again, since this is a randomly initialized model, we expect such performance.\n",
        "\n",
        "Now, Let's load our trained model into `model2`"
      ]
    },
    {
      "cell_type": "code",
      "metadata": {
        "colab": {
          "base_uri": "https://localhost:8080/"
        },
        "id": "nMH4UzdHOTK_",
        "outputId": "7a3a4487-1691-4dfb-e292-19805bdd8054"
      },
      "source": [
        "model2.load_state_dict(torch.load('mnist-logistic.pth'))\n",
        "model2.state_dict()"
      ],
      "execution_count": 53,
      "outputs": [
        {
          "output_type": "execute_result",
          "data": {
            "text/plain": [
              "OrderedDict([('linear.weight',\n",
              "              tensor([[-0.0243,  0.0129,  0.0147,  ...,  0.0313,  0.0038, -0.0035],\n",
              "                      [ 0.0309,  0.0061,  0.0232,  ...,  0.0260,  0.0330,  0.0064],\n",
              "                      [-0.0323, -0.0092, -0.0100,  ...,  0.0127,  0.0013,  0.0154],\n",
              "                      ...,\n",
              "                      [-0.0079,  0.0045, -0.0171,  ..., -0.0139,  0.0288,  0.0334],\n",
              "                      [ 0.0019,  0.0287,  0.0244,  ...,  0.0080, -0.0075, -0.0024],\n",
              "                      [ 0.0321,  0.0170,  0.0285,  ...,  0.0087, -0.0005,  0.0015]])),\n",
              "             ('linear.bias',\n",
              "              tensor([-0.0252,  0.1082, -0.0500, -0.0130,  0.0080,  0.0234, -0.0098,  0.0449,\n",
              "                      -0.0571, -0.0383]))])"
            ]
          },
          "metadata": {
            "tags": []
          },
          "execution_count": 53
        }
      ]
    },
    {
      "cell_type": "markdown",
      "metadata": {
        "id": "5kBzoKgrOwSg"
      },
      "source": [
        "You can see that the trained paramteres have been loaded into our new `model2`"
      ]
    },
    {
      "cell_type": "code",
      "metadata": {
        "colab": {
          "base_uri": "https://localhost:8080/"
        },
        "id": "WC2rmzI2OuH7",
        "outputId": "53f5dc92-acdf-4b6f-b798-afecae05ecad"
      },
      "source": [
        "test_loader = DataLoader(test_dataset, batch_size=256)\n",
        "result = evaluate(model2, test_loader)\n",
        "result"
      ],
      "execution_count": 54,
      "outputs": [
        {
          "output_type": "execute_result",
          "data": {
            "text/plain": [
              "{'val_acc': 0.8573242425918579, 'val_loss': 0.6515902280807495}"
            ]
          },
          "metadata": {
            "tags": []
          },
          "execution_count": 54
        }
      ]
    },
    {
      "cell_type": "markdown",
      "metadata": {
        "id": "3_NzgbuhPkeX"
      },
      "source": [
        "## Summary and Further Reading\n",
        "\n",
        "We covered:\n",
        "\n",
        "* Working with images in PyTorch (using the MNIST dataset).\n",
        "* Splitting a dataset into training, validation and test sets.\n",
        "* Creating PyTorch models with custom logic by extending the `nn.Module` class.\n",
        "* Interpreting model ouputs as probabilities using softmax, and picking predicted labels.\n",
        "* Picking a good evaluation metric (accuracy) and loss function (cross entropy) for classification problems.\n",
        "* Setting up a training loop that also evaluates the model using the validation set.\n",
        "* Testing the model manually on randomly picked examples \n",
        "* Saving and loading model checkpoints to avoid retraining from scratch.\n",
        "\n",
        "**Experiment!**\n",
        "\n",
        "* Try making the validation set smaller or larger, and see how it affects the model.\n",
        "* Try changing the learning rate and see if you can achieve the same accuracy in fewer epochs.\n",
        "* Try changing the batch size. What happens if you use too high a batch size, or too low?\n",
        "* Modify the `fit` function to also track the overall loss and accuracy on the training set, and see how it compares with the validation loss/accuracy. Can you explain why it's lower/higher?\n",
        "* Train with a small subset of the data, and see if you can reach a similar level of accuracy.\n",
        "* Try building a model for a different dataset, such as the [CIFAR10 or CIFAR100 datasets](https://www.cs.toronto.edu/~kriz/cifar.html).\n"
      ]
    }
  ]
}